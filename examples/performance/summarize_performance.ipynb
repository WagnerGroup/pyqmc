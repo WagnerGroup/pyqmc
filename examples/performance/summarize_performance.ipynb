{
 "cells": [
  {
   "cell_type": "code",
   "execution_count": 36,
   "id": "530222ae",
   "metadata": {},
   "outputs": [
    {
     "data": {
      "application/vnd.microsoft.datawrangler.viewer.v0+json": {
       "columns": [
        {
         "name": "index",
         "rawType": "int64",
         "type": "integer"
        },
        {
         "name": "N",
         "rawType": "int64",
         "type": "integer"
        },
        {
         "name": "laplacian time per walker",
         "rawType": "float64",
         "type": "float"
        },
        {
         "name": "laplacian_values",
         "rawType": "object",
         "type": "unknown"
        },
        {
         "name": "nconfigs",
         "rawType": "int64",
         "type": "integer"
        },
        {
         "name": "new_ecp time per walker",
         "rawType": "float64",
         "type": "float"
        },
        {
         "name": "new_ecp_values",
         "rawType": "object",
         "type": "unknown"
        },
        {
         "name": "old_ecp time per walker",
         "rawType": "float64",
         "type": "float"
        },
        {
         "name": "old_ecp_values",
         "rawType": "object",
         "type": "unknown"
        },
        {
         "name": "recompute time per walker",
         "rawType": "float64",
         "type": "float"
        },
        {
         "name": "recompute_values",
         "rawType": "object",
         "type": "unknown"
        },
        {
         "name": "wf_name",
         "rawType": "object",
         "type": "string"
        }
       ],
       "ref": "53fc7890-44d1-43bf-a4f8-9b8e32737a01",
       "rows": [
        [
         "0",
         "10",
         "1.6969799041980878",
         "[-2.27183752 -2.84100797 13.06563074 -0.7712893  -3.01007223  1.48708088\n -1.66864123 -3.79059459 -1.09518837 -2.14155315]",
         "10",
         "7.477683183294721",
         "[-89.3281367   55.70392781  10.69398173  26.3499482   22.11132865\n  77.99205994  34.39272086  15.82149083  -1.588667   -43.44210373]",
         "3.6557842916809022",
         "[-89.32698627  55.79485825  10.51469617  26.20568516  22.06101133\n  78.00539211  34.33013016  15.82741927  -1.54942105 -43.35813843]",
         "1.0597979292040691",
         "[-251.50773494 -255.5618564  -248.09278238 -255.51713213 -241.5963199\n -253.93196114 -245.03258718 -251.37168754 -260.06700792 -251.33550972]",
         "jaxnimage2"
        ],
        [
         "1",
         "10",
         "0.3437322458950803",
         "[-2.27226733 -2.84083616 13.20325609 -0.77799492 -3.01343412  1.48753294\n -1.66865652 -3.79055252 -1.09478647 -2.14033009]",
         "10",
         "1.5526036832947283",
         "[-89.21642561  55.72677324  10.72035871  26.0682846   22.14358334\n  78.0567724   34.39398556  15.79587337  -1.62119246 -43.24807199]",
         "0.8276552208932116",
         "[-89.36549605  55.71825929  10.62533544  26.05736593  22.03318525\n  77.86651856  34.43716148  15.88084989  -1.62691205 -43.26625954]",
         "0.22451870411168784",
         "[-251.50556396 -255.56101175 -248.10321377 -255.5127929  -241.59558057\n -253.93336599 -245.03496899 -251.37234026 -260.06628981 -251.33131707]",
         "jaxnimage1"
        ],
        [
         "2",
         "10",
         "0.16861598340328782",
         "[-2.27183756 -2.8410078  13.06563198 -0.77128936 -3.01007236  1.4870808\n -1.66864171 -3.79059464 -1.09518849 -2.14155306]",
         "10",
         "0.2775841999799013",
         "[-89.36873825  55.75431497  10.68567588  26.31964639  22.12823041\n  77.96663023  34.39151669  15.84465101  -1.64534542 -43.32578438]",
         "0.18008832088671625",
         "[-89.48725656  55.7155277   10.47023213  26.25743743  22.1044466\n  77.80690213  34.44622011  15.92853928  -1.67078774 -43.28194631]",
         "0.03235582918860018",
         "[-251.50773491 -255.56185637 -248.09278215 -255.51713222 -241.59631989\n -253.93196123 -245.03258717 -251.3716876  -260.06700794 -251.33550977]",
         "nonjax"
        ],
        [
         "3",
         "20",
         "1.6916638646041975",
         "[-2.25226823e+00 -7.63523967e+00 -1.32710065e+00  1.77821004e+00\n -2.68333638e-01 -2.80557443e+00 -6.71674587e-01  4.44633355e+00\n  1.38600293e+00  1.10063489e+01 -2.97615273e+02 -7.43038206e-01\n -1.77619484e+00 -9.63870557e-01 -3.97335697e+00 -9.21515580e-02\n  1.33786575e+01 -3.19725301e+00 -3.38237584e+00 -3.38614879e+00]",
         "20",
         "7.4342608478968035",
         "[ 2.79372827e+01 -8.61453467e+01  3.27311074e+01  6.78026924e+00\n  2.90526184e+01 -1.37553096e+02  1.78922678e+01 -1.06545540e+02\n -1.04130299e+02 -7.17733060e+01 -1.45271619e+02  1.49757719e+01\n  5.51087832e+01  1.19164971e+01  4.56340424e-02  1.93562134e+01\n  3.47574907e+02 -3.94698532e+01  2.60437626e+01 -5.93269440e+02]",
         "5.465304627094883",
         "[ 2.79068383e+01 -8.63374993e+01  3.27837300e+01  6.69286902e+00\n  2.88637074e+01 -1.37895589e+02  1.78153142e+01 -1.06606245e+02\n -1.03854596e+02 -7.14251441e+01 -1.45382302e+02  1.48652620e+01\n  5.49185300e+01  1.18434691e+01 -3.53027415e-02  1.92507160e+01\n  3.47831670e+02 -3.95346900e+01  2.59943917e+01 -5.97231758e+02]",
         "1.0678265145979822",
         "[-252.27468921 -252.96151497 -244.72351428 -254.32267129 -246.87358155\n -261.62409474 -238.7972928  -255.28511448 -245.61837019 -260.95604706\n -252.93652941 -244.91648372 -255.10564077 -245.07979466 -249.63267651\n -247.48307031 -244.44128599 -258.19607455 -241.18186836 -248.0989421 ]",
         "jaxnimage2"
        ],
        [
         "4",
         "20",
         "0.35737409584689883",
         "[-2.25042231e+00 -7.63878733e+00 -1.32707984e+00  1.77751664e+00\n -2.68874001e-01 -2.80359760e+00 -6.71799228e-01  4.44711053e+00\n  1.38637818e+00  1.10542883e+01 -2.95667675e+02 -7.42380320e-01\n -1.78055215e+00 -9.63725867e-01 -3.97231694e+00 -9.21756184e-02\n  1.34407623e+01 -3.19798317e+00 -3.38234542e+00 -3.39682093e+00]",
         "20",
         "1.5430289187585005",
         "[ 2.78596707e+01 -8.59389202e+01  3.27267270e+01  6.58686500e+00\n  2.92327662e+01 -1.37950145e+02  1.78522733e+01 -1.06391064e+02\n -1.03999528e+02 -7.17747878e+01 -1.44362956e+02  1.49310177e+01\n  5.49653769e+01  1.19029883e+01 -2.66968377e-02  1.93238310e+01\n  3.49381910e+02 -3.93106973e+01  2.60194740e+01 -5.87032833e+02]",
         "1.1171427083550953",
         "[ 2.76955313e+01 -8.58475971e+01  3.28126698e+01  6.63165298e+00\n  2.90050285e+01 -1.37745485e+02  1.78812860e+01 -1.06353703e+02\n -1.03938746e+02 -7.07153353e+01 -1.44551862e+02  1.48973145e+01\n  5.48981134e+01  1.19929351e+01 -1.18605701e-01  1.93549310e+01\n  3.48719546e+02 -3.93887216e+01  2.60234306e+01 -5.84311035e+02]",
         "0.21857706250157208",
         "[-252.27122057 -252.95857342 -244.7225381  -254.32395992 -246.87460776\n -261.62257145 -238.7971321  -255.28483116 -245.61526567 -260.95502937\n -252.92836494 -244.91447824 -255.1058644  -245.07970516 -249.63880916\n -247.48164303 -244.44587067 -258.197714   -241.18169466 -248.08791604]",
         "jaxnimage1"
        ],
        [
         "5",
         "20",
         "0.11116255625383928",
         "[-2.25226821e+00 -7.63523911e+00 -1.32710081e+00  1.77821075e+00\n -2.68333691e-01 -2.80557427e+00 -6.71674581e-01  4.44633261e+00\n  1.38600285e+00  1.10063365e+01 -2.97615220e+02 -7.43038431e-01\n -1.77619439e+00 -9.63871134e-01 -3.97335711e+00 -9.21515822e-02\n  1.33786582e+01 -3.19725304e+00 -3.38237584e+00 -3.38615550e+00]",
         "20",
         "0.20902699374128134",
         "[ 2.78621880e+01 -8.62378969e+01  3.27123168e+01  6.69638823e+00\n  2.89877266e+01 -1.38011032e+02  1.78603694e+01 -1.06535080e+02\n -1.04047101e+02 -7.16384976e+01 -1.45236570e+02  1.48575992e+01\n  5.50349545e+01  1.19069885e+01  4.74941779e-04  1.93894157e+01\n  3.47421202e+02 -3.94716644e+01  2.59870367e+01 -5.88642844e+02]",
         "0.12611702289432286",
         "[ 2.79951977e+01 -8.62709227e+01  3.27092879e+01  6.71065766e+00\n  2.88751214e+01 -1.37722845e+02  1.79350648e+01 -1.06514974e+02\n -1.04051377e+02 -7.11275002e+01 -1.45331610e+02  1.47734137e+01\n  5.50912465e+01  1.19421985e+01  6.46100346e-02  1.94156473e+01\n  3.47841864e+02 -3.94154327e+01  2.59956960e+01 -5.88459807e+02]",
         "0.03300633959006518",
         "[-252.27468911 -252.96151493 -244.72351427 -254.32267119 -246.87358149\n -261.62409478 -238.7972928  -255.28511446 -245.61837012 -260.95604678\n -252.93652919 -244.91648375 -255.10564078 -245.07979464 -249.6326764\n -247.48307027 -244.44128582 -258.19607456 -241.18186831 -248.09893583]",
         "nonjax"
        ]
       ],
       "shape": {
        "columns": 11,
        "rows": 6
       }
      },
      "text/html": [
       "<div>\n",
       "<style scoped>\n",
       "    .dataframe tbody tr th:only-of-type {\n",
       "        vertical-align: middle;\n",
       "    }\n",
       "\n",
       "    .dataframe tbody tr th {\n",
       "        vertical-align: top;\n",
       "    }\n",
       "\n",
       "    .dataframe thead th {\n",
       "        text-align: right;\n",
       "    }\n",
       "</style>\n",
       "<table border=\"1\" class=\"dataframe\">\n",
       "  <thead>\n",
       "    <tr style=\"text-align: right;\">\n",
       "      <th></th>\n",
       "      <th>N</th>\n",
       "      <th>laplacian time per walker</th>\n",
       "      <th>laplacian_values</th>\n",
       "      <th>nconfigs</th>\n",
       "      <th>new_ecp time per walker</th>\n",
       "      <th>new_ecp_values</th>\n",
       "      <th>old_ecp time per walker</th>\n",
       "      <th>old_ecp_values</th>\n",
       "      <th>recompute time per walker</th>\n",
       "      <th>recompute_values</th>\n",
       "      <th>wf_name</th>\n",
       "    </tr>\n",
       "  </thead>\n",
       "  <tbody>\n",
       "    <tr>\n",
       "      <th>0</th>\n",
       "      <td>10</td>\n",
       "      <td>1.696980</td>\n",
       "      <td>[-2.271837523567471, -2.841007973143894, 13.06...</td>\n",
       "      <td>10</td>\n",
       "      <td>7.477683</td>\n",
       "      <td>[-89.32813669577646, 55.703927811976634, 10.69...</td>\n",
       "      <td>3.655784</td>\n",
       "      <td>[-89.32698627120084, 55.79485825404371, 10.514...</td>\n",
       "      <td>1.059798</td>\n",
       "      <td>[-251.50773494312355, -255.56185639870486, -24...</td>\n",
       "      <td>jaxnimage2</td>\n",
       "    </tr>\n",
       "    <tr>\n",
       "      <th>1</th>\n",
       "      <td>10</td>\n",
       "      <td>0.343732</td>\n",
       "      <td>[-2.2722673256625705, -2.840836155499356, 13.2...</td>\n",
       "      <td>10</td>\n",
       "      <td>1.552604</td>\n",
       "      <td>[-89.21642560773266, 55.726773241731564, 10.72...</td>\n",
       "      <td>0.827655</td>\n",
       "      <td>[-89.36549604768463, 55.718259285261624, 10.62...</td>\n",
       "      <td>0.224519</td>\n",
       "      <td>[-251.50556395720756, -255.5610117535871, -248...</td>\n",
       "      <td>jaxnimage1</td>\n",
       "    </tr>\n",
       "    <tr>\n",
       "      <th>2</th>\n",
       "      <td>10</td>\n",
       "      <td>0.168616</td>\n",
       "      <td>[-2.2718375631455605, -2.8410078035790436, 13....</td>\n",
       "      <td>10</td>\n",
       "      <td>0.277584</td>\n",
       "      <td>[-89.36873825271715, 55.75431497230154, 10.685...</td>\n",
       "      <td>0.180088</td>\n",
       "      <td>[-89.48725655832467, 55.715527699497585, 10.47...</td>\n",
       "      <td>0.032356</td>\n",
       "      <td>[-251.50773491153558, -255.56185637257298, -24...</td>\n",
       "      <td>nonjax</td>\n",
       "    </tr>\n",
       "    <tr>\n",
       "      <th>3</th>\n",
       "      <td>20</td>\n",
       "      <td>1.691664</td>\n",
       "      <td>[-2.2522682332847768, -7.635239674270041, -1.3...</td>\n",
       "      <td>20</td>\n",
       "      <td>7.434261</td>\n",
       "      <td>[27.93728269013915, -86.1453467184197, 32.7311...</td>\n",
       "      <td>5.465305</td>\n",
       "      <td>[27.906838320669294, -86.33749931355001, 32.78...</td>\n",
       "      <td>1.067827</td>\n",
       "      <td>[-252.27468920845655, -252.96151496552392, -24...</td>\n",
       "      <td>jaxnimage2</td>\n",
       "    </tr>\n",
       "    <tr>\n",
       "      <th>4</th>\n",
       "      <td>20</td>\n",
       "      <td>0.357374</td>\n",
       "      <td>[-2.2504223051399666, -7.638787331062584, -1.3...</td>\n",
       "      <td>20</td>\n",
       "      <td>1.543029</td>\n",
       "      <td>[27.859670712536502, -85.93892024784382, 32.72...</td>\n",
       "      <td>1.117143</td>\n",
       "      <td>[27.695531330993038, -85.84759713781347, 32.81...</td>\n",
       "      <td>0.218577</td>\n",
       "      <td>[-252.27122057169606, -252.9585734215065, -244...</td>\n",
       "      <td>jaxnimage1</td>\n",
       "    </tr>\n",
       "    <tr>\n",
       "      <th>5</th>\n",
       "      <td>20</td>\n",
       "      <td>0.111163</td>\n",
       "      <td>[-2.252268209629273, -7.635239113853111, -1.32...</td>\n",
       "      <td>20</td>\n",
       "      <td>0.209027</td>\n",
       "      <td>[27.862188002993864, -86.23789693138862, 32.71...</td>\n",
       "      <td>0.126117</td>\n",
       "      <td>[27.99519766749274, -86.27092267658539, 32.709...</td>\n",
       "      <td>0.033006</td>\n",
       "      <td>[-252.27468911368962, -252.96151493418344, -24...</td>\n",
       "      <td>nonjax</td>\n",
       "    </tr>\n",
       "  </tbody>\n",
       "</table>\n",
       "</div>"
      ],
      "text/plain": [
       "    N  laplacian time per walker  \\\n",
       "0  10                   1.696980   \n",
       "1  10                   0.343732   \n",
       "2  10                   0.168616   \n",
       "3  20                   1.691664   \n",
       "4  20                   0.357374   \n",
       "5  20                   0.111163   \n",
       "\n",
       "                                    laplacian_values  nconfigs  \\\n",
       "0  [-2.271837523567471, -2.841007973143894, 13.06...        10   \n",
       "1  [-2.2722673256625705, -2.840836155499356, 13.2...        10   \n",
       "2  [-2.2718375631455605, -2.8410078035790436, 13....        10   \n",
       "3  [-2.2522682332847768, -7.635239674270041, -1.3...        20   \n",
       "4  [-2.2504223051399666, -7.638787331062584, -1.3...        20   \n",
       "5  [-2.252268209629273, -7.635239113853111, -1.32...        20   \n",
       "\n",
       "   new_ecp time per walker                                     new_ecp_values  \\\n",
       "0                 7.477683  [-89.32813669577646, 55.703927811976634, 10.69...   \n",
       "1                 1.552604  [-89.21642560773266, 55.726773241731564, 10.72...   \n",
       "2                 0.277584  [-89.36873825271715, 55.75431497230154, 10.685...   \n",
       "3                 7.434261  [27.93728269013915, -86.1453467184197, 32.7311...   \n",
       "4                 1.543029  [27.859670712536502, -85.93892024784382, 32.72...   \n",
       "5                 0.209027  [27.862188002993864, -86.23789693138862, 32.71...   \n",
       "\n",
       "   old_ecp time per walker                                     old_ecp_values  \\\n",
       "0                 3.655784  [-89.32698627120084, 55.79485825404371, 10.514...   \n",
       "1                 0.827655  [-89.36549604768463, 55.718259285261624, 10.62...   \n",
       "2                 0.180088  [-89.48725655832467, 55.715527699497585, 10.47...   \n",
       "3                 5.465305  [27.906838320669294, -86.33749931355001, 32.78...   \n",
       "4                 1.117143  [27.695531330993038, -85.84759713781347, 32.81...   \n",
       "5                 0.126117  [27.99519766749274, -86.27092267658539, 32.709...   \n",
       "\n",
       "   recompute time per walker  \\\n",
       "0                   1.059798   \n",
       "1                   0.224519   \n",
       "2                   0.032356   \n",
       "3                   1.067827   \n",
       "4                   0.218577   \n",
       "5                   0.033006   \n",
       "\n",
       "                                    recompute_values     wf_name  \n",
       "0  [-251.50773494312355, -255.56185639870486, -24...  jaxnimage2  \n",
       "1  [-251.50556395720756, -255.5610117535871, -248...  jaxnimage1  \n",
       "2  [-251.50773491153558, -255.56185637257298, -24...      nonjax  \n",
       "3  [-252.27468920845655, -252.96151496552392, -24...  jaxnimage2  \n",
       "4  [-252.27122057169606, -252.9585734215065, -244...  jaxnimage1  \n",
       "5  [-252.27468911368962, -252.96151493418344, -24...      nonjax  "
      ]
     },
     "execution_count": 36,
     "metadata": {},
     "output_type": "execute_result"
    }
   ],
   "source": [
    "import h5py\n",
    "import pandas as pd\n",
    "import seaborn as sns\n",
    "import matplotlib.pyplot as plt\n",
    "import os\n",
    "\n",
    "wfs = {\n",
    "    \"jaxnimage2\": {\"jax\": True, \"slater_kws\": {\"tol\": 0, \"nimages\": 2}},\n",
    "    \"jaxnimage1\": {\"jax\": True, \"slater_kws\": {\"tol\": 0, \"nimages\": 1}},\n",
    "    \"nonjax\": {\"jax\": False, \"slater_kws\": {\"tol\": 0}},\n",
    "}\n",
    "\n",
    "alldata = []\n",
    "for N in [10, 20]:\n",
    "    for wf_name, wf_params in wfs.items():\n",
    "        hdf_file = f\"performance_{wf_name}_{N}.hdf5\"\n",
    "        if not os.path.exists(hdf_file):\n",
    "            print(f\"File {hdf_file} does not exist. Skipping.\")\n",
    "            continue\n",
    "\n",
    "        with h5py.File(hdf_file, \"r\") as f:\n",
    "            data = {key: f[key][()] for key in f.keys()}\n",
    "        data[\"N\"] = N\n",
    "        data[\"wf_name\"] = wf_name\n",
    "\n",
    "        alldata.append(data)\n",
    "\n",
    "df = pd.DataFrame(alldata)\n",
    "df"
   ]
  },
  {
   "cell_type": "code",
   "execution_count": 37,
   "id": "1cf50ff7",
   "metadata": {},
   "outputs": [
    {
     "data": {
      "text/plain": [
       "<seaborn.axisgrid.FacetGrid at 0x128362ae0>"
      ]
     },
     "execution_count": 37,
     "metadata": {},
     "output_type": "execute_result"
    },
    {
     "data": {
      "image/png": "[encoded data removed]",
      "text/plain": [
       "<Figure size 567.625x500 with 1 Axes>"
      ]
     },
     "metadata": {},
     "output_type": "display_data"
    }
   ],
   "source": [
    "sns.catplot(data=df, x=\"wf_name\", y=\"laplacian time per walker\", hue=\"N\", kind=\"bar\")"
   ]
  },
  {
   "cell_type": "code",
   "execution_count": 38,
   "id": "803a6518",
   "metadata": {},
   "outputs": [
    {
     "data": {
      "text/plain": [
       "<seaborn.axisgrid.FacetGrid at 0x128213b60>"
      ]
     },
     "execution_count": 38,
     "metadata": {},
     "output_type": "execute_result"
    },
    {
     "data": {
      "image/png": "[encoded data removed]",
      "text/plain": [
       "<Figure size 567.625x500 with 1 Axes>"
      ]
     },
     "metadata": {},
     "output_type": "display_data"
    }
   ],
   "source": [
    "sns.catplot(data=df, x=\"wf_name\", y=\"new_ecp time per walker\", hue=\"N\", kind=\"bar\")"
   ]
  },
  {
   "cell_type": "code",
   "execution_count": 39,
   "id": "1caa88d4",
   "metadata": {},
   "outputs": [
    {
     "data": {
      "text/plain": [
       "<seaborn.axisgrid.FacetGrid at 0x1281d4860>"
      ]
     },
     "execution_count": 39,
     "metadata": {},
     "output_type": "execute_result"
    },
    {
     "data": {
      "image/png": "[encoded data removed]",
      "text/plain": [
       "<Figure size 567.625x500 with 1 Axes>"
      ]
     },
     "metadata": {},
     "output_type": "display_data"
    }
   ],
   "source": [
    "sns.catplot(data=df, x=\"wf_name\", y=\"old_ecp time per walker\", hue=\"N\", kind=\"bar\")"
   ]
  },
  {
   "cell_type": "code",
   "execution_count": null,
   "id": "0da01cdd",
   "metadata": {},
   "outputs": [],
   "source": []
  }
 ],
 "metadata": {
  "kernelspec": {
   "display_name": "jax3.12",
   "language": "python",
   "name": "python3"
  },
  "language_info": {
   "codemirror_mode": {
    "name": "ipython",
    "version": 3
   },
   "file_extension": ".py",
   "mimetype": "text/x-python",
   "name": "python",
   "nbconvert_exporter": "python",
   "pygments_lexer": "ipython3",
   "version": "3.12.9"
  }
 },
 "nbformat": 4,
 "nbformat_minor": 5
}
