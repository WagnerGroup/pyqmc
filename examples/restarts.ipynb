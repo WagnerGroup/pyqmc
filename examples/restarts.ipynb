{
 "cells": [
  {
   "cell_type": "code",
   "execution_count": 1,
   "metadata": {},
   "outputs": [],
   "source": [
    "import os\n",
    "os.environ[\"MKL_NUM_THREADS\"] = \"1\"\n",
    "os.environ[\"NUMEXPR_NUM_THREADS\"] = \"1\"\n",
    "os.environ[\"OMP_NUM_THREADS\"] = \"1\"\n",
    "import numpy as np\n",
    "import pandas as pd\n",
    "from pyscf import lib, gto, scf\n",
    "import pyqmc\n",
    "import h5py"
   ]
  },
  {
   "cell_type": "markdown",
   "metadata": {},
   "source": [
    "This function computes the mean-field solution and saves the results to the file specified."
   ]
  },
  {
   "cell_type": "code",
   "execution_count": 2,
   "metadata": {},
   "outputs": [],
   "source": [
    "def mean_field(chkfile):\n",
    "    mol = gto.M(atom = \"He 0. 0. 0.\", basis='bfd_vdz', ecp='bfd', unit='bohr')\n",
    "\n",
    "    mf = scf.RHF(mol)\n",
    "    mf.chkfile = chkfile\n",
    "    mf.kernel()\n",
    "    return mol, mf"
   ]
  },
  {
   "cell_type": "markdown",
   "metadata": {},
   "source": [
    "Set up our wave function given a molecule and mean-field object"
   ]
  },
  {
   "cell_type": "code",
   "execution_count": 3,
   "metadata": {},
   "outputs": [],
   "source": [
    "def qmcwf(mol, mf):\n",
    "    jast, to_optj, freezej = pyqmc.default_jastrow(mol)\n",
    "    slater = pyqmc.PySCFSlaterUHF(mol, mf)\n",
    "    wf = pyqmc.MultiplyWF(slater,jast)\n",
    "    freeze = {}\n",
    "    for k in to_optj:\n",
    "        freeze[\"wf2\" + k] = freezej[k]\n",
    "    to_opt = [\"wf2\" + x for x in to_optj]\n",
    "    return wf, to_opt, freeze\n",
    "    \n"
   ]
  },
  {
   "cell_type": "markdown",
   "metadata": {},
   "source": [
    "This function runs VMC, recovering the mean-field objects from `chkfile`. These could be run in completely different processes.\n",
    "\n",
    "If `hdffile` exists, then the configurations will be reloaded from it and the run will be continued. You can run this as many times as you like and the statistics will get better."
   ]
  },
  {
   "cell_type": "code",
   "execution_count": 4,
   "metadata": {},
   "outputs": [],
   "source": [
    "def runvmc(chkfile, wffile, hdffile):\n",
    "    #recover the mean-field objects\n",
    "    mol = lib.chkfile.load_mol(chkfile)\n",
    "    mf = scf.RHF(mol)\n",
    "    mf.__dict__.update(scf.chkfile.load(chkfile, 'scf'))\n",
    "\n",
    "    #Set up our MC variables and wave function\n",
    "    wf, _, _ = qmcwf(mol,mf)\n",
    "    hdf = h5py.File(wffile, 'r')\n",
    "    grp = hdf['wf']\n",
    "    for k in grp.keys():\n",
    "        wf.parameters[k] = np.array(grp[k])\n",
    "\n",
    "    accumulators = {'energy': pyqmc.EnergyAccumulator(mol) } \n",
    "    #This will get \n",
    "    configs = pyqmc.initial_guess(mol, 1000)\n",
    "    hdf = h5py.File(hdffile,'a')\n",
    "\n",
    "    pyqmc.vmc(wf, configs, accumulators=accumulators, hdf_file = hdf)\n"
   ]
  },
  {
   "cell_type": "code",
   "execution_count": 5,
   "metadata": {},
   "outputs": [],
   "source": [
    "def optimize(chkfile, wffile):\n",
    "    #recover the mean-field objects\n",
    "    mol = lib.chkfile.load_mol(chkfile)\n",
    "    mf = scf.RHF(mol)\n",
    "    mf.__dict__.update(scf.chkfile.load(chkfile, 'scf'))\n",
    "    wf, to_opt, freeze = qmcwf(mol, mf)\n",
    "    accumulator = pyqmc.gradient_generator(mol, wf,to_opt, freeze)\n",
    "    coords = pyqmc.initial_guess(mol, 1000)\n",
    "    hdf = h5py.File(wffile, 'a')\n",
    "    wf, df = pyqmc.line_minimization(wf,coords, accumulator, hdf_file = hdf)\n"
   ]
  },
  {
   "cell_type": "markdown",
   "metadata": {},
   "source": [
    "A simple analysis script to check on the progress of your calculation."
   ]
  },
  {
   "cell_type": "code",
   "execution_count": 6,
   "metadata": {},
   "outputs": [],
   "source": [
    "def analyze(hdffile):\n",
    "    hdf = h5py.File(hdffile, 'r')\n",
    "    energy = np.array(hdf['energytotal'])\n",
    "    for nb in [50, 20, 10]:\n",
    "        reblock = pyqmc.avg_reblock(energy, nb)\n",
    "\n",
    "        print(nb, np.mean(reblock), np.std(reblock)/np.sqrt(len(reblock)) )\n"
   ]
  },
  {
   "cell_type": "markdown",
   "metadata": {},
   "source": [
    "Here we run the mean-field calculation. It's a good idea to run analyze() to make sure that the solution is similar to what you would expect. "
   ]
  },
  {
   "cell_type": "code",
   "execution_count": 7,
   "metadata": {},
   "outputs": [
    {
     "name": "stdout",
     "output_type": "stream",
     "text": [
      "converged SCF energy = -2.86193223020366\n",
      "**** MO energy ****\n",
      "MO #1   energy= -0.917801424375274 occ= 2\n",
      "MO #2   energy= 0.727613019225335  occ= 0\n",
      "MO #3   energy= 0.727613019225335  occ= 0\n",
      "MO #4   energy= 0.727613019225338  occ= 0\n",
      "MO #5   energy= 1.58197375047964   occ= 0\n",
      " ** Mulliken atomic charges  **\n",
      "charge of  0He =      0.00000\n",
      "Dipole moment(X, Y, Z, Debye):  0.00000,  0.00000,  0.00000\n"
     ]
    },
    {
     "data": {
      "text/plain": [
       "((array([1.99999047e+00, 9.53120630e-06, 0.00000000e+00, 0.00000000e+00,\n",
       "         0.00000000e+00]), array([2.22044605e-16])), array([0., 0., 0.]))"
      ]
     },
     "execution_count": 7,
     "metadata": {},
     "output_type": "execute_result"
    }
   ],
   "source": [
    "chkfile = 'he.chk'\n",
    "hdffile = 'he.hdf5'\n",
    "wffile = \"savewf.hdf5\"\n",
    "\n",
    "#This is so we can start over each time we run!\n",
    "#Don't do this if you want to save your data.\n",
    "for filenm in [chkfile, hdffile, wffile]:\n",
    "    if os.path.isfile(filenm):\n",
    "        os.remove(filenm)\n",
    "        \n",
    "mol, mf = mean_field(chkfile)\n",
    "mf.analyze()"
   ]
  },
  {
   "cell_type": "markdown",
   "metadata": {},
   "source": [
    "We can now run VMC on our Slater-Jastrow wave function. Each time we run it, the error bars will decrease.\n"
   ]
  },
  {
   "cell_type": "code",
   "execution_count": 8,
   "metadata": {},
   "outputs": [
    {
     "name": "stdout",
     "output_type": "stream",
     "text": [
      "starting warmup\n",
      "warmup finished, nsteps 100\n",
      "descent en -2.874478317704893 0.0013387856116458881\n",
      "descent |grad| 0.16213539535634486\n",
      "descent step -0.04           -2.874432221    weight stddev 0.01785559781  \n",
      "descent step 0.02            -2.884869054    weight stddev 0.008800806197 \n",
      "descent step 0.08            -2.892671841    weight stddev 0.03474439732  \n",
      "descent step 0.14            -2.898043025    weight stddev 0.06008089614  \n",
      "descent step 0.2             -2.901171511    weight stddev 0.08490832791  \n",
      "polynomial fit [ 0.33825987 -0.16520916 -2.88162113]\n",
      "estimated minimum 0.2442044965681123\n",
      "estimated minimum adjusted 0.2\n",
      "descent en -2.8939966436738707 0.0006679068615095764\n",
      "descent |grad| 0.040418646659449824\n",
      "descent step -0.04           -2.8839169      weight stddev 0.003692807767 \n",
      "descent step 0.02            -2.885400236    weight stddev 0.001876257204 \n",
      "descent step 0.08            -2.886784889    weight stddev 0.007626829229 \n",
      "descent step 0.14            -2.888072005    weight stddev 0.01356436503  \n",
      "descent step 0.2             -2.889262713    weight stddev 0.0196944709   \n",
      "polynomial fit [ 0.01354744 -0.02443991 -2.8849164 ]\n",
      "estimated minimum 0.9020125473401777\n",
      "estimated minimum adjusted 0.2\n",
      "descent en -2.894988137199158 0.0007046551267012876\n",
      "descent |grad| 0.027389236329583774\n",
      "descent step -0.04           -2.889461038    weight stddev 0.00226504945  \n",
      "descent step 0.02            -2.88957944     weight stddev 0.001154513556 \n",
      "descent step 0.08            -2.889671244    weight stddev 0.004707849241 \n",
      "descent step 0.14            -2.889736529    weight stddev 0.008399166533 \n",
      "descent step 0.2             -2.889775376    weight stddev 0.01223279591  \n",
      "polynomial fit [ 3.68309676e-03 -1.89890791e-03 -2.88954290e+00]\n",
      "estimated minimum 0.2577868617022512\n",
      "estimated minimum adjusted 0.2\n",
      "descent en -2.898096588261554 0.0005900105570715389\n",
      "descent |grad| 0.020061521214669756\n",
      "descent step -0.04           -2.888205168    weight stddev 0.001572480296 \n",
      "descent step 0.02            -2.888907526    weight stddev 0.0007974302423\n",
      "descent step 0.08            -2.889598039    weight stddev 0.003235153131 \n",
      "descent step 0.14            -2.890276726    weight stddev 0.005742218179 \n",
      "descent step 0.2             -2.890943607    weight stddev 0.00832018697  \n",
      "polynomial fit [ 1.64243278e-03 -1.16729171e-02 -2.88867472e+00]\n",
      "estimated minimum 3.553544843704119\n",
      "estimated minimum adjusted 0.2\n",
      "descent en -2.8979869804797045 0.0007225202177888977\n",
      "descent |grad| 0.015812465791897084\n",
      "descent step -0.04           -2.91624929     weight stddev 0.0009723612002\n",
      "descent step 0.02            -2.916188139    weight stddev 0.0004916951472\n",
      "descent step 0.08            -2.916119261    weight stddev 0.00198909883  \n",
      "descent step 0.14            -2.916042661    weight stddev 0.003520440462 \n",
      "descent step 0.2             -2.915958348    weight stddev 0.005086320168 \n",
      "polynomial fit [ 1.07233299e-03  1.04069521e-03 -2.91620938e+00]\n",
      "estimated minimum -0.4852481561069044\n",
      "estimated minimum adjusted -0.04\n",
      "descent en -2.898814747626521 0.000582201959529646\n",
      "descent |grad| 0.016050339996648275\n",
      "descent step -0.04           -2.89211534     weight stddev 0.0009779384256\n",
      "descent step 0.02            -2.892248695    weight stddev 0.0004932744289\n",
      "descent step 0.08            -2.892373589    weight stddev 0.001990480504 \n",
      "descent step 0.14            -2.892490036    weight stddev 0.003514046896 \n",
      "descent step 0.2             -2.892598053    weight stddev 0.005064345482 \n",
      "polynomial fit [ 1.17307203e-03 -2.19896959e-03 -2.89220518e+00]\n",
      "estimated minimum 0.9372696304587764\n",
      "estimated minimum adjusted 0.2\n",
      "descent en -2.899045394948719 0.0004949878874704536\n",
      "descent |grad| 0.016858800064055098\n",
      "descent step -0.04           -2.893625979    weight stddev 0.001474773326 \n",
      "descent step 0.02            -2.893852054    weight stddev 0.0007467213549\n",
      "descent step 0.08            -2.8940714      weight stddev 0.003024720186 \n",
      "descent step 0.14            -2.894284025    weight stddev 0.005360351127 \n",
      "descent step 0.2             -2.894489933    weight stddev 0.007754762885 \n",
      "polynomial fit [ 9.33609342e-04 -3.74917562e-03 -2.89377744e+00]\n",
      "estimated minimum 2.007893156950827\n",
      "estimated minimum adjusted 0.2\n",
      "descent en -2.89862683390362 0.0006088418127108273\n",
      "descent |grad| 0.011752517215509555\n",
      "descent step -0.04           -2.898753484    weight stddev 0.000674672722 \n",
      "descent step 0.02            -2.898660544    weight stddev 0.000339728199 \n",
      "descent step 0.08            -2.898564464    weight stddev 0.001368551381 \n",
      "descent step 0.14            -2.898465246    weight stddev 0.002411958058 \n",
      "descent step 0.2             -2.898362896    weight stddev 0.003470111115 \n",
      "polynomial fit [ 4.35680985e-04  1.55774531e-03 -2.89869187e+00]\n",
      "estimated minimum -1.787713217634252\n",
      "estimated minimum adjusted -0.04\n",
      "descent en -2.897467130216575 0.0006043037025950393\n",
      "descent |grad| 0.012673165983205696\n",
      "descent step -0.04           -2.898988736    weight stddev 0.0007512161614\n",
      "descent step 0.02            -2.898946343    weight stddev 0.0003788185496\n",
      "descent step 0.08            -2.898900201    weight stddev 0.001528230904 \n",
      "descent step 0.14            -2.898850315    weight stddev 0.002697281116 \n",
      "descent step 0.2             -2.898796688    weight stddev 0.003886232596 \n",
      "polynomial fit [ 5.20114575e-04  7.16988784e-04 -2.89896089e+00]\n",
      "estimated minimum -0.6892604234487033\n",
      "estimated minimum adjusted -0.04\n",
      "descent en -2.8991797512454167 0.0006235755587872995\n",
      "descent |grad| 0.012694200325662666\n",
      "descent step -0.04           -2.889526066    weight stddev 0.000795802875 \n",
      "descent step 0.02            -2.889638198    weight stddev 0.0004011728756\n",
      "descent step 0.08            -2.88974694     weight stddev 0.001617889525 \n",
      "descent step 0.14            -2.889852293    weight stddev 0.002854601418 \n",
      "descent step 0.2             -2.88995426     weight stddev 0.004111565894 \n",
      "polynomial fit [ 4.70628287e-04 -1.85943932e-03 -2.88960120e+00]\n",
      "estimated minimum 1.9754861455501886\n",
      "estimated minimum adjusted 0.2\n"
     ]
    }
   ],
   "source": [
    "optimize(chkfile, wffile)"
   ]
  },
  {
   "cell_type": "code",
   "execution_count": 9,
   "metadata": {},
   "outputs": [
    {
     "data": {
      "image/png": "[encoded data removed]",
      "text/plain": [
       "<Figure size 432x288 with 1 Axes>"
      ]
     },
     "metadata": {
      "needs_background": "light"
     },
     "output_type": "display_data"
    }
   ],
   "source": [
    "hdf = h5py.File(wffile,'r')\n",
    "import matplotlib.pyplot as plt\n",
    "%matplotlib inline\n",
    "plt.errorbar(hdf['iteration'], hdf['energy'], hdf['energy_error'])\n",
    "hdf.close()"
   ]
  },
  {
   "cell_type": "code",
   "execution_count": 10,
   "metadata": {
    "collapsed": true,
    "jupyter": {
     "outputs_hidden": true
    }
   },
   "outputs": [
    {
     "name": "stdout",
     "output_type": "stream",
     "text": [
      "starting warmup\n",
      "warmup finished, nsteps 100\n",
      "descent en -2.8992176672170236 0.0005343740028032838\n",
      "descent |grad| 0.010177199171632458\n",
      "descent step -0.04           -2.887486516    weight stddev 0.0005138938735\n",
      "descent step 0.02            -2.887374456    weight stddev 0.0002583689356\n",
      "descent step 0.08            -2.887260405    weight stddev 0.001039196458 \n",
      "descent step 0.14            -2.887144364    weight stddev 0.001828662654 \n",
      "descent step 0.2             -2.887026335    weight stddev 0.002626842063 \n",
      "polynomial fit [ 2.76390435e-04  1.87320202e-03 -2.88741203e+00]\n",
      "estimated minimum -3.388688213617738\n",
      "estimated minimum adjusted -0.04\n",
      "descent en -2.8994960618512278 0.0006739617919577233\n",
      "descent |grad| 0.010603990390630815\n",
      "descent step -0.04           -2.895443478    weight stddev 0.0005361522636\n",
      "descent step 0.02            -2.895187832    weight stddev 0.0002696900698\n",
      "descent step 0.08            -2.894930329    weight stddev 0.001085256626 \n",
      "descent step 0.14            -2.89467097     weight stddev 0.001910639204 \n",
      "descent step 0.2             -2.89440976     weight stddev 0.002745930393 \n",
      "polynomial fit [ 2.57599013e-04  4.26594653e-03 -2.89527325e+00]\n",
      "estimated minimum -8.280207447943233\n",
      "estimated minimum adjusted -0.04\n",
      "descent en -2.898973832635657 0.0006347675512255093\n",
      "descent |grad| 0.010889409245068543\n",
      "descent step -0.04           -2.900621167    weight stddev 0.0005812006007\n",
      "descent step 0.02            -2.900489134    weight stddev 0.0002922713135\n",
      "descent step 0.08            -2.90035399     weight stddev 0.001175809839 \n",
      "descent step 0.14            -2.900215741    weight stddev 0.002069506619 \n",
      "descent step 0.2             -2.90007439     weight stddev 0.002973454064 \n",
      "polynomial fit [ 4.31354969e-04  2.20922851e-03 -2.90053349e+00]\n",
      "estimated minimum -2.5608010441425364\n",
      "estimated minimum adjusted -0.04\n",
      "descent en -2.89978021318605 0.0004519605015657429\n",
      "descent |grad| 0.011583724868344516\n",
      "descent step -0.04           -2.895325687    weight stddev 0.0006361721035\n",
      "descent step 0.02            -2.89540828     weight stddev 0.0003205358752\n",
      "descent step 0.08            -2.895488214    weight stddev 0.001292021746 \n",
      "descent step 0.14            -2.895565492    weight stddev 0.002278464295 \n",
      "descent step 0.2             -2.895640115    weight stddev 0.003280044279 \n",
      "polynomial fit [ 3.68959256e-04 -1.36914587e-03 -2.89538104e+00]\n",
      "estimated minimum 1.8554160686962118\n",
      "estimated minimum adjusted 0.2\n",
      "descent en -2.9003990384228473 0.0006163506259922881\n",
      "descent |grad| 0.009849738057146505\n",
      "descent step -0.04           -2.898875558    weight stddev 0.0005296261093\n",
      "descent step 0.02            -2.898648846    weight stddev 0.0002662030937\n",
      "descent step 0.08            -2.898420496    weight stddev 0.001070403555 \n",
      "descent step 0.14            -2.898190507    weight stddev 0.001883045392 \n",
      "descent step 0.2             -2.897958881    weight stddev 0.002704199262 \n",
      "polynomial fit [ 2.27522654e-04  3.78308284e-03 -2.89872460e+00]\n",
      "estimated minimum -8.313639938953761\n",
      "estimated minimum adjusted -0.04\n",
      "descent en -2.900800170515885 0.0006088930645269768\n",
      "descent |grad| 0.010929602875263341\n",
      "descent step -0.04           -2.887417223    weight stddev 0.0007450663021\n",
      "descent step 0.02            -2.88740293     weight stddev 0.0003754885831\n",
      "descent step 0.08            -2.887386029    weight stddev 0.001513873369 \n",
      "descent step 0.14            -2.887366517    weight stddev 0.002670308438 \n",
      "descent step 0.2             -2.887344395    weight stddev 0.003845016663 \n",
      "polynomial fit [ 3.62503876e-04  2.45447087e-04 -2.88740798e+00]\n",
      "estimated minimum -0.33854408709868006\n",
      "estimated minimum adjusted -0.04\n",
      "descent en -2.8989471253247143 0.0006542684783020755\n",
      "descent |grad| 0.00994555977030896\n",
      "descent step -0.04           -2.900121188    weight stddev 0.0005135364422\n",
      "descent step 0.02            -2.900069608    weight stddev 0.0002581151955\n",
      "descent step 0.08            -2.90001612     weight stddev 0.001037878671 \n",
      "descent step 0.14            -2.899960725    weight stddev 0.001825821766 \n",
      "descent step 0.2             -2.899903425    weight stddev 0.002622012783 \n",
      "polynomial fit [ 2.64820761e-04  8.64977776e-04 -2.90008701e+00]\n",
      "estimated minimum -1.6331381483862704\n",
      "estimated minimum adjusted -0.04\n",
      "descent en -2.897897345814881 0.0006737313131765173\n",
      "descent |grad| 0.011437616792211953\n",
      "descent step -0.04           -2.900167926    weight stddev 0.000706959427 \n",
      "descent step 0.02            -2.900334452    weight stddev 0.000356309059 \n",
      "descent step 0.08            -2.900498575    weight stddev 0.001436648316 \n",
      "descent step 0.14            -2.900660298    weight stddev 0.002534272839 \n",
      "descent step 0.2             -2.900819623    weight stddev 0.003649399589 \n",
      "polynomial fit [ 3.33418682e-04 -2.76874558e-03 -2.90027921e+00]\n",
      "estimated minimum 4.152055259058709\n",
      "estimated minimum adjusted 0.2\n",
      "descent en -2.8984801459567415 0.0006553188650599847\n",
      "descent |grad| 0.009812148003014208\n",
      "descent step -0.04           -2.898062925    weight stddev 0.0006067372044\n",
      "descent step 0.02            -2.89811539     weight stddev 0.0003054436716\n",
      "descent step 0.08            -2.898166139    weight stddev 0.00123013361  \n",
      "descent step 0.14            -2.898215174    weight stddev 0.002167465307 \n",
      "descent step 0.2             -2.898262496    weight stddev 0.00311757274  \n",
      "polynomial fit [ 2.38092679e-04 -8.69635523e-04 -2.89809809e+00]\n",
      "estimated minimum 1.8262542282434993\n",
      "estimated minimum adjusted 0.2\n",
      "descent en -2.9008817225475383 0.0005196755323689221\n",
      "descent |grad| 0.008452088057094048\n",
      "descent step -0.04           -2.904061216    weight stddev 0.000419599357 \n",
      "descent step 0.02            -2.904168621    weight stddev 0.0002108995082\n",
      "descent step 0.08            -2.904274735    weight stddev 0.0008480212785\n",
      "descent step 0.14            -2.904379556    weight stddev 0.001491820022 \n",
      "descent step 0.2             -2.904483083    weight stddev 0.002142350212 \n",
      "polynomial fit [ 1.79525857e-04 -1.78650600e-03 -2.90413296e+00]\n",
      "estimated minimum 4.975623094464121\n",
      "estimated minimum adjusted 0.2\n"
     ]
    },
    {
     "data": {
      "image/png": "[encoded data removed]",
      "text/plain": [
       "<Figure size 432x288 with 1 Axes>"
      ]
     },
     "metadata": {
      "needs_background": "light"
     },
     "output_type": "display_data"
    }
   ],
   "source": [
    "optimize(chkfile, wffile)\n",
    "hdf = h5py.File(wffile,'r')\n",
    "import matplotlib.pyplot as plt\n",
    "%matplotlib inline\n",
    "plt.errorbar(hdf['iteration'], hdf['energy'], hdf['energy_error'])\n",
    "hdf.close()"
   ]
  },
  {
   "cell_type": "code",
   "execution_count": 11,
   "metadata": {},
   "outputs": [
    {
     "name": "stdout",
     "output_type": "stream",
     "text": [
      "50 -2.8974166 0.002016813102285727\n",
      "20 -2.8974166 0.0028629374641120637\n",
      "10 -2.8974166 0.0030828988827858094\n"
     ]
    }
   ],
   "source": [
    "runvmc(chkfile, wffile, hdffile)\n",
    "analyze(hdffile)"
   ]
  },
  {
   "cell_type": "code",
   "execution_count": 12,
   "metadata": {},
   "outputs": [
    {
     "name": "stdout",
     "output_type": "stream",
     "text": [
      "50 -2.8996148 0.0014390568589088034\n",
      "20 -2.8996148 0.0016853385690961916\n",
      "10 -2.8996148 0.0017975677565666042\n"
     ]
    }
   ],
   "source": [
    "runvmc(chkfile, wffile, hdffile)\n",
    "analyze(hdffile)"
   ]
  },
  {
   "cell_type": "code",
   "execution_count": null,
   "metadata": {},
   "outputs": [],
   "source": []
  }
 ],
 "metadata": {
  "kernelspec": {
   "display_name": "Python 3",
   "language": "python",
   "name": "python3"
  },
  "language_info": {
   "codemirror_mode": {
    "name": "ipython",
    "version": 3
   },
   "file_extension": ".py",
   "mimetype": "text/x-python",
   "name": "python",
   "nbconvert_exporter": "python",
   "pygments_lexer": "ipython3",
   "version": "3.7.4"
  }
 },
 "nbformat": 4,
 "nbformat_minor": 4
}
