{
 "cells": [
  {
   "cell_type": "code",
   "execution_count": 1,
   "metadata": {},
   "outputs": [],
   "source": [
    "import os\n",
    "os.environ[\"MKL_NUM_THREADS\"] = \"1\"\n",
    "os.environ[\"NUMEXPR_NUM_THREADS\"] = \"1\"\n",
    "os.environ[\"OMP_NUM_THREADS\"] = \"1\"\n",
    "import numpy as np\n",
    "import pandas as pd\n",
    "from pyscf import lib, gto, scf\n",
    "import pyqmc\n",
    "import h5py"
   ]
  },
  {
   "cell_type": "markdown",
   "metadata": {},
   "source": [
    "This function computes the mean-field solution and saves the results to the file specified."
   ]
  },
  {
   "cell_type": "code",
   "execution_count": 2,
   "metadata": {},
   "outputs": [],
   "source": [
    "def mean_field(chkfile):\n",
    "    mol = gto.M(atom = \"He 0. 0. 0.\", basis='bfd_vdz', ecp='bfd', unit='bohr')\n",
    "\n",
    "    mf = scf.RHF(mol)\n",
    "    mf.chkfile = chkfile\n",
    "    mf.kernel()\n",
    "    return mol, mf"
   ]
  },
  {
   "cell_type": "markdown",
   "metadata": {},
   "source": [
    "Set up our wave function given a molecule and mean-field object"
   ]
  },
  {
   "cell_type": "code",
   "execution_count": 3,
   "metadata": {},
   "outputs": [],
   "source": [
    "def qmcwf(mol, mf):\n",
    "    jast, to_optj, freezej = pyqmc.default_jastrow(mol)\n",
    "    slater = pyqmc.PySCFSlaterUHF(mol, mf)\n",
    "    wf = pyqmc.MultiplyWF(slater,jast)\n",
    "    freeze = {}\n",
    "    for k in to_optj:\n",
    "        freeze[\"wf2\" + k] = freezej[k]\n",
    "    to_opt = [\"wf2\" + x for x in to_optj]\n",
    "    return wf, to_opt, freeze\n",
    "    \n"
   ]
  },
  {
   "cell_type": "markdown",
   "metadata": {},
   "source": [
    "This function runs VMC, recovering the mean-field objects from `chkfile`. These could be run in completely different processes.\n",
    "\n",
    "If `hdffile` exists, then the configurations will be reloaded from it and the run will be continued. You can run this as many times as you like and the statistics will get better."
   ]
  },
  {
   "cell_type": "code",
   "execution_count": 4,
   "metadata": {},
   "outputs": [],
   "source": [
    "def runvmc(chkfile, wffile, hdffile):\n",
    "    #recover the mean-field objects\n",
    "    mol = lib.chkfile.load_mol(chkfile)\n",
    "    mf = scf.RHF(mol)\n",
    "    mf.__dict__.update(scf.chkfile.load(chkfile, 'scf'))\n",
    "\n",
    "    #Set up our MC variables and wave function\n",
    "    wf, _, _ = qmcwf(mol,mf)\n",
    "    hdf = h5py.File(wffile, 'r')\n",
    "    for k in wf.parameters:\n",
    "        wf.parameters[k] = np.array(hdf[k])\n",
    "\n",
    "    accumulators = {'energy': pyqmc.EnergyAccumulator(mol) } \n",
    "    #This will get \n",
    "    configs = pyqmc.initial_guess(mol, 1000)\n",
    "    hdf = h5py.File(hdffile,'a')\n",
    "\n",
    "    pyqmc.vmc(wf, configs, accumulators=accumulators, hdf_file = hdf)\n"
   ]
  },
  {
   "cell_type": "code",
   "execution_count": 5,
   "metadata": {},
   "outputs": [],
   "source": [
    "def optimize(chkfile, wffile):\n",
    "    #recover the mean-field objects\n",
    "    mol = lib.chkfile.load_mol(chkfile)\n",
    "    mf = scf.RHF(mol)\n",
    "    mf.__dict__.update(scf.chkfile.load(chkfile, 'scf'))\n",
    "    wf, to_opt, freeze = qmcwf(mol, mf)\n",
    "    accumulator = pyqmc.gradient_generator(mol, wf,to_opt, freeze)\n",
    "    coords = pyqmc.initial_guess(mol, 1000)\n",
    "    wf, datagrad, dataline = pyqmc.line_minimization(wf,coords, accumulator)\n",
    "    hdf = h5py.File(wffile, 'w')\n",
    "    for k, it in wf.parameters.items():\n",
    "        hdf.create_dataset(k,data=it)\n"
   ]
  },
  {
   "cell_type": "markdown",
   "metadata": {},
   "source": [
    "A simple analysis script to check on the progress of your calculation."
   ]
  },
  {
   "cell_type": "code",
   "execution_count": 6,
   "metadata": {},
   "outputs": [],
   "source": [
    "def analyze(hdffile):\n",
    "    hdf = h5py.File(hdffile, 'r')\n",
    "    energy = np.array(hdf['energytotal'])\n",
    "    for nb in [50, 20, 10]:\n",
    "        reblock = pyqmc.avg_reblock(energy, nb)\n",
    "\n",
    "        print(nb, np.mean(reblock), np.std(reblock)/np.sqrt(len(reblock)) )\n"
   ]
  },
  {
   "cell_type": "markdown",
   "metadata": {},
   "source": [
    "Here we run the mean-field calculation. It's a good idea to run analyze() to make sure that the solution is similar to what you would expect. "
   ]
  },
  {
   "cell_type": "code",
   "execution_count": 9,
   "metadata": {},
   "outputs": [
    {
     "name": "stdout",
     "output_type": "stream",
     "text": [
      "converged SCF energy = -2.86193223020366\n",
      "**** MO energy ****\n",
      "MO #1   energy= -0.917801424375274 occ= 2\n",
      "MO #2   energy= 0.727613019225335  occ= 0\n",
      "MO #3   energy= 0.727613019225335  occ= 0\n",
      "MO #4   energy= 0.727613019225338  occ= 0\n",
      "MO #5   energy= 1.58197375047964   occ= 0\n",
      " ** Mulliken atomic charges  **\n",
      "charge of  0He =      0.00000\n",
      "Dipole moment(X, Y, Z, Debye):  0.00000,  0.00000,  0.00000\n"
     ]
    },
    {
     "data": {
      "text/plain": [
       "((array([1.99999047e+00, 9.53120630e-06, 0.00000000e+00, 0.00000000e+00,\n",
       "         0.00000000e+00]), array([2.22044605e-16])), array([0., 0., 0.]))"
      ]
     },
     "execution_count": 9,
     "metadata": {},
     "output_type": "execute_result"
    }
   ],
   "source": [
    "chkfile = 'he.chk'\n",
    "hdffile = 'he.hdf5'\n",
    "wffile = \"savewf.hdf5\"\n",
    "\n",
    "#This is so we can start over each time we run!\n",
    "#Don't do this if you want to save your data.\n",
    "for filenm in [chkfile, hdffile, wffile]:\n",
    "    if os.path.isfile(filenm):\n",
    "        os.remove(filenm)\n",
    "        \n",
    "mol, mf = mean_field(chkfile)\n",
    "mf.analyze()"
   ]
  },
  {
   "cell_type": "markdown",
   "metadata": {},
   "source": [
    "We can now run VMC on our Slater-Jastrow wave function. Each time we run it, the error bars will decrease.\n"
   ]
  },
  {
   "cell_type": "code",
   "execution_count": 10,
   "metadata": {
    "collapsed": true,
    "jupyter": {
     "outputs_hidden": true
    }
   },
   "outputs": [
    {
     "name": "stdout",
     "output_type": "stream",
     "text": [
      "starting warmup\n",
      "warmup finished, nsteps 100\n",
      "descent en -2.871652666545279 0.001473240199867319\n",
      "descent |grad| 0.15900448767030845\n",
      "descent step -0.04           -2.873639136    weight stddev 0.01705159428  \n",
      "descent step 0.02            -2.882616509    weight stddev 0.008436422675 \n",
      "descent step 0.08            -2.889298999    weight stddev 0.03343174811  \n",
      "descent step 0.14            -2.893848189    weight stddev 0.05802834375  \n",
      "descent step 0.2             -2.896416354    weight stddev 0.08231380064  \n",
      "polynomial fit [ 0.29666101 -0.14210929 -2.87982968]\n",
      "estimated minimum 0.23951460100260386\n",
      "estimated minimum adjusted 0.2\n",
      "descent en -2.892701618606988 0.0008221760949654424\n",
      "descent |grad| 0.04211285983984151\n",
      "descent step -0.04           -2.898608638    weight stddev 0.004067577658 \n",
      "descent step 0.02            -2.900580755    weight stddev 0.002064671723 \n",
      "descent step 0.08            -2.902389148    weight stddev 0.008384743765 \n",
      "descent step 0.14            -2.90403662     weight stddev 0.01489841196  \n",
      "descent step 0.2             -2.905525929    weight stddev 0.02161160972  \n",
      "polynomial fit [ 0.02235191 -0.03239372 -2.89994071]\n",
      "estimated minimum 0.7246297557892671\n",
      "estimated minimum adjusted 0.2\n",
      "descent en -2.896791749178415 0.0005922502325383397\n",
      "descent |grad| 0.026530156130732393\n",
      "descent step -0.04           -2.890587483    weight stddev 0.002125881894 \n",
      "descent step 0.02            -2.89064765     weight stddev 0.001081804191 \n",
      "descent step 0.08            -2.890681415    weight stddev 0.004404090791 \n",
      "descent step 0.14            -2.890688828    weight stddev 0.007844223959 \n",
      "descent step 0.2             -2.890669939    weight stddev 0.01140553459  \n",
      "polynomial fit [ 3.66002617e-03 -9.29088945e-04 -2.89063051e+00]\n",
      "estimated minimum 0.1269238117081771\n",
      "estimated minimum adjusted 0.1269238117081771\n",
      "descent en -2.8958924927400265 0.0007895643695472392\n",
      "descent |grad| 0.02169418900346296\n",
      "descent step -0.04           -2.902319406    weight stddev 0.001506668144 \n",
      "descent step 0.02            -2.902492489    weight stddev 0.0007640098391\n",
      "descent step 0.08            -2.902649846    weight stddev 0.003099386596 \n",
      "descent step 0.14            -2.902791504    weight stddev 0.005500929202 \n",
      "descent step 0.2             -2.902917489    weight stddev 0.007970135464 \n",
      "polynomial fit [ 2.18041623e-03 -2.84083504e-03 -2.90243653e+00]\n",
      "estimated minimum 0.6514432889263603\n",
      "estimated minimum adjusted 0.2\n",
      "descent en -2.897489411830236 0.0006712774787614505\n",
      "descent |grad| 0.016025380963588656\n",
      "descent step -0.04           -2.896726409    weight stddev 0.001112744286 \n",
      "descent step 0.02            -2.896617524    weight stddev 0.0005616306424\n",
      "descent step 0.08            -2.896501631    weight stddev 0.002267769359 \n",
      "descent step 0.14            -2.896378746    weight stddev 0.004006154574 \n",
      "descent step 0.2             -2.896248881    weight stddev 0.005777275792 \n",
      "polynomial fit [ 9.71287130e-04  1.83431676e-03 -2.89665459e+00]\n",
      "estimated minimum -0.9442711158571157\n",
      "estimated minimum adjusted -0.04\n",
      "descent en -2.8979063679001253 0.0005757346610090919\n",
      "descent |grad| 0.01978248365359004\n",
      "descent step -0.04           -2.89535696     weight stddev 0.00158524949  \n",
      "descent step 0.02            -2.895585977    weight stddev 0.0008044439563\n",
      "descent step 0.08            -2.895805464    weight stddev 0.003265785123 \n",
      "descent step 0.14            -2.89601542     weight stddev 0.005800442466 \n",
      "descent step 0.2             -2.896215844    weight stddev 0.008410119956 \n",
      "polynomial fit [ 1.32373846e-03 -3.79048362e-03 -2.89551070e+00]\n",
      "estimated minimum 1.431734342732968\n",
      "estimated minimum adjusted 0.2\n",
      "descent en -2.8988545026961856 0.0006189281616776434\n",
      "descent |grad| 0.013933582621690898\n",
      "descent step -0.04           -2.889057811    weight stddev 0.0008810619402\n",
      "descent step 0.02            -2.88961696     weight stddev 0.0004440999887\n",
      "descent step 0.08            -2.890169596    weight stddev 0.001790805578 \n",
      "descent step 0.14            -2.89071573     weight stddev 0.00315934843  \n",
      "descent step 0.2             -2.891255373    weight stddev 0.004550025811 \n",
      "polynomial fit [ 9.03056455e-04 -9.30097647e-03 -2.88943130e+00]\n",
      "estimated minimum 5.149720388636166\n",
      "estimated minimum adjusted 0.2\n",
      "descent en -2.8973119460160746 0.0005496040323164579\n",
      "descent |grad| 0.01380442023766834\n",
      "descent step -0.04           -2.893705082    weight stddev 0.001060970485 \n",
      "descent step 0.02            -2.894140832    weight stddev 0.000535535035 \n",
      "descent step 0.08            -2.894572521    weight stddev 0.002162542975 \n",
      "descent step 0.14            -2.895000157    weight stddev 0.003820515304 \n",
      "descent step 0.2             -2.895423743    weight stddev 0.005509920423 \n",
      "polynomial fit [ 5.63108741e-04 -7.25117341e-03 -2.89399603e+00]\n",
      "estimated minimum 6.438519675063624\n",
      "estimated minimum adjusted 0.2\n",
      "descent en -2.899757846238883 0.0005761261145619298\n",
      "descent |grad| 0.01027932185477975\n",
      "descent step -0.04           -2.89499942     weight stddev 0.0005165596954\n",
      "descent step 0.02            -2.895052736    weight stddev 0.000259633111 \n",
      "descent step 0.08            -2.895103803    weight stddev 0.00104397517  \n",
      "descent step 0.14            -2.89515262     weight stddev 0.001836533537 \n",
      "descent step 0.2             -2.895199192    weight stddev 0.002637375775 \n",
      "polynomial fit [ 3.12271409e-04 -8.82341612e-04 -2.89503521e+00]\n",
      "estimated minimum 1.4127800137110709\n",
      "estimated minimum adjusted 0.2\n",
      "descent en -2.9010597023217746 0.0004908401243338206\n",
      "descent |grad| 0.009717982141244717\n",
      "descent step -0.04           -2.907087415    weight stddev 0.0006568197497\n",
      "descent step 0.02            -2.907286403    weight stddev 0.0003303274141\n",
      "descent step 0.08            -2.90748374     weight stddev 0.00132902849  \n",
      "descent step 0.14            -2.907679427    weight stddev 0.002339393561 \n",
      "descent step 0.2             -2.907873467    weight stddev 0.003361533677 \n",
      "polynomial fit [ 2.29108781e-04 -3.31187278e-03 -2.90722026e+00]\n",
      "estimated minimum 7.227729899358462\n",
      "estimated minimum adjusted 0.2\n"
     ]
    }
   ],
   "source": [
    "optimize(chkfile, wffile)"
   ]
  },
  {
   "cell_type": "code",
   "execution_count": 11,
   "metadata": {},
   "outputs": [
    {
     "name": "stdout",
     "output_type": "stream",
     "text": [
      "KeysView(<HDF5 file \"he.hdf5\" (mode r+)>)\n",
      "50 -2.8963852 0.0021245231932134627\n",
      "20 -2.8963847 0.002851327731596174\n",
      "10 -2.8963847 0.002968451980043285\n"
     ]
    }
   ],
   "source": [
    "runvmc(chkfile, wffile, hdffile)\n",
    "analyze(hdffile)"
   ]
  },
  {
   "cell_type": "code",
   "execution_count": 13,
   "metadata": {},
   "outputs": [
    {
     "name": "stdout",
     "output_type": "stream",
     "text": [
      "50 -2.8975494 0.001413637567736277\n",
      "20 -2.8975496 0.0015544964109144809\n",
      "10 -2.8975494 0.0015687159187647074\n"
     ]
    }
   ],
   "source": [
    "runvmc(chkfile, wffile, hdffile)\n",
    "analyze(hdffile)"
   ]
  },
  {
   "cell_type": "code",
   "execution_count": 14,
   "metadata": {},
   "outputs": [
    {
     "name": "stdout",
     "output_type": "stream",
     "text": [
      "50 -2.8978744 0.0010494981479341658\n",
      "20 -2.8978746 0.0011378706148400608\n",
      "10 -2.8978744 0.0011372109743202946\n"
     ]
    }
   ],
   "source": [
    "runvmc(chkfile, wffile, hdffile)\n",
    "analyze(hdffile)"
   ]
  },
  {
   "cell_type": "code",
   "execution_count": null,
   "metadata": {},
   "outputs": [],
   "source": []
  }
 ],
 "metadata": {
  "kernelspec": {
   "display_name": "Python 3",
   "language": "python",
   "name": "python3"
  },
  "language_info": {
   "codemirror_mode": {
    "name": "ipython",
    "version": 3
   },
   "file_extension": ".py",
   "mimetype": "text/x-python",
   "name": "python",
   "nbconvert_exporter": "python",
   "pygments_lexer": "ipython3",
   "version": "3.7.4"
  }
 },
 "nbformat": 4,
 "nbformat_minor": 4
}
