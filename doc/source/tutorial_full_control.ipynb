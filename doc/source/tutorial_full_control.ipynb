{
 "cells": [
  {
   "cell_type": "markdown",
   "source": [
    "# Tutorial using expert mode\n",
    "\n",
    "Here we demonstrate avoiding the use of the disk at all; keeping all objects in memory. It is recommended to at least use the `hdf_file` option of all functions to save the data to disk, just in case!\n",
    "\n",
    "We will do the same calculations as done in the recipe tutorial, but using the expert API.\n",
    "\n",
    "You may wish to follow this if:\n",
    "\n",
    "1. The calculations are inexpensive and can be done in a single process, or filesystem access is very expensive.\n",
    "2. You wish to use either a non-standard wave function or use a custom accumulator.\n",
    "\n",
    "Note that the low-level API can be mixed with the recipes API; in fact, the recipes use the low-level API here under the hood, so they are also good references; check `recipes.py`.\n"
   ],
   "metadata": {}
  },
  {
   "cell_type": "code",
   "execution_count": 1,
   "source": [
    "import os\n",
    "os.environ[\"MKL_NUM_THREADS\"] = \"1\"\n",
    "os.environ[\"NUMEXPR_NUM_THREADS\"] = \"1\"\n",
    "os.environ[\"OMP_NUM_THREADS\"] = \"1\"\n",
    "import numpy as np\n",
    "import pandas as pd\n",
    "from pyscf import gto, scf\n",
    "import pyqmc.api as pyq\n",
    "import h5py\n",
    "import matplotlib.pyplot as plt\n",
    "from ase.data.pubchem import pubchem_atoms_search\n",
    "import pyscf.pbc.tools.pyscf_ase as pyscf_ase\n"
   ],
   "outputs": [
    {
     "output_type": "stream",
     "name": "stderr",
     "text": [
      "/opt/homebrew/Caskroom/miniforge/base/envs/python3.9/lib/python3.9/site-packages/pyscf/lib/misc.py:46: H5pyDeprecationWarning: Using default_file_mode other than 'r' is deprecated. Pass the mode to h5py.File() instead.\n",
      "  h5py.get_config().default_file_mode = 'a'\n"
     ]
    }
   ],
   "metadata": {}
  },
  {
   "cell_type": "code",
   "execution_count": 2,
   "source": [
    "atoms =  pubchem_atoms_search(name='water')\n",
    "mol = gto.M(\n",
    "    atom=pyscf_ase.ase_atoms_to_pyscf(atoms),\n",
    "    basis=\"ccECP_cc-pVDZ\", ecp=\"ccecp\",\n",
    ")\n",
    "mf = scf.RHF(mol)\n",
    "mf.kernel()\n"
   ],
   "outputs": [
    {
     "output_type": "stream",
     "name": "stdout",
     "text": [
      "converged SCF energy = -16.9321257267691\n"
     ]
    },
    {
     "output_type": "execute_result",
     "data": {
      "text/plain": [
       "-16.932125726769126"
      ]
     },
     "metadata": {},
     "execution_count": 2
    }
   ],
   "metadata": {}
  },
  {
   "cell_type": "markdown",
   "source": [
    "Construct the trial wave function. We control which parameters to optimize using a dictionary `to_opt`. Since the cusp conditions are already set for the exact conditions, we do not wish to optimize those parameters. \n",
    "\n",
    "Here is where you can insert other wave function objects, a more complex Jastrow, etc.\n"
   ],
   "metadata": {}
  },
  {
   "cell_type": "code",
   "execution_count": 3,
   "source": [
    "wf = pyq.MultiplyWF(\n",
    "    pyq.Slater(mol, mf),\n",
    "    pyq.generate_jastrow(mol)[0]\n",
    ")\n",
    "print(list(wf.parameters.keys()))\n",
    "print(\"electron-electron parameters:\\n\", wf.parameters['wf2bcoeff'])\n",
    "to_opt = {k:np.ones_like(wf.parameters[k],dtype=bool) for k in ['wf2acoeff','wf2bcoeff']}\n",
    "to_opt['wf2bcoeff'][0,:] = False\n",
    "print(\"parameters to optimize\\n\", to_opt['wf2bcoeff'])\n"
   ],
   "outputs": [
    {
     "output_type": "stream",
     "name": "stdout",
     "text": [
      "['wf1det_coeff', 'wf1mo_coeff_alpha', 'wf1mo_coeff_beta', 'wf2bcoeff', 'wf2acoeff']\n",
      "electron-electron parameters:\n",
      " [[-0.25 -0.5  -0.25]\n",
      " [ 0.    0.    0.  ]\n",
      " [ 0.    0.    0.  ]\n",
      " [ 0.    0.    0.  ]]\n",
      "parameters to optimize\n",
      " [[False False False]\n",
      " [ True  True  True]\n",
      " [ True  True  True]\n",
      " [ True  True  True]]\n"
     ]
    }
   ],
   "metadata": {}
  },
  {
   "cell_type": "markdown",
   "source": [
    "The gradient accumulator object presents only the parameters available in to_opt to the optimizer. This can be replaced by any object that presents the same interface, including a custom one that you define yourself. See `LinearTransform` and `PGradTransform` in `accumulators.py`."
   ],
   "metadata": {}
  },
  {
   "cell_type": "code",
   "execution_count": 4,
   "source": [
    "nconfig=400\n",
    "coords = pyq.initial_guess(mol, nconfig)\n",
    "gradient_accumulator = pyq.gradient_generator(mol, wf, to_opt)\n",
    "wf, minimization_results = pyq.line_minimization(wf, coords, gradient_accumulator, max_iterations=10)"
   ],
   "outputs": [],
   "metadata": {}
  },
  {
   "cell_type": "code",
   "execution_count": 5,
   "source": [
    "for r in minimization_results:\n",
    "    print(r['energy'])\n",
    "print(wf.parameters['wf2bcoeff'])"
   ],
   "outputs": [
    {
     "output_type": "stream",
     "name": "stdout",
     "text": [
      "-16.99419791016134\n",
      "-17.109371802877092\n",
      "-17.131586001398762\n",
      "-17.151584798575904\n",
      "-17.166627220956933\n",
      "-17.17266706469024\n",
      "-17.173110504534208\n",
      "-17.176354456482365\n",
      "-17.17167911623273\n",
      "-17.177799072725385\n",
      "[[-0.25       -0.5        -0.25      ]\n",
      " [ 0.01640548 -0.00527065  0.01573901]\n",
      " [-0.17070071 -0.27458873 -0.17282158]\n",
      " [-0.11646714 -0.1173134  -0.11980396]]\n"
     ]
    }
   ],
   "metadata": {}
  },
  {
   "cell_type": "markdown",
   "source": [
    "The VMC and DMC functions accept a dictionary of accumulator objects. These can be custom defined by the user as well, see `accumulators.py` or the example in `Snippets`."
   ],
   "metadata": {}
  },
  {
   "cell_type": "code",
   "execution_count": 6,
   "source": [
    "vmc_data, coords = pyq.vmc(wf, coords, accumulators={'energy':pyq.EnergyAccumulator(mol)})"
   ],
   "outputs": [],
   "metadata": {}
  },
  {
   "cell_type": "code",
   "execution_count": 7,
   "source": [
    "import scipy.stats\n",
    "en = vmc_data['energytotal'][1:]\n",
    "print(\"average\", np.mean(en))\n",
    "print(\"standard error\", scipy.stats.sem(en))"
   ],
   "outputs": [
    {
     "output_type": "stream",
     "name": "stdout",
     "text": [
      "average -17.174165784834877\n",
      "standard error 0.0059391103748076485\n"
     ]
    }
   ],
   "metadata": {}
  },
  {
   "cell_type": "code",
   "execution_count": 9,
   "source": [
    "dmc_data, coords, weights = pyq.rundmc(wf, coords, tstep=0.1, accumulators={'energy':pyq.EnergyAccumulator(mol)})"
   ],
   "outputs": [
    {
     "output_type": "stream",
     "name": "stderr",
     "text": [
      "/opt/homebrew/Caskroom/miniforge/base/envs/python3.9/lib/python3.9/site-packages/pyqmc/slater.py:291: RuntimeWarning: invalid value encountered in true_divide\n",
      "  return gpu.asnumpy(ratios[1:] / ratios[0])\n"
     ]
    }
   ],
   "metadata": {}
  },
  {
   "cell_type": "code",
   "execution_count": 11,
   "source": [
    "plt.plot(dmc_data['energytotal'])"
   ],
   "outputs": [
    {
     "output_type": "execute_result",
     "data": {
      "text/plain": [
       "[<matplotlib.lines.Line2D at 0x139abdfd0>]"
      ]
     },
     "metadata": {},
     "execution_count": 11
    },
    {
     "output_type": "display_data",
     "data": {
      "text/plain": [
       "<Figure size 432x288 with 1 Axes>"
      ],
      "image/png": "[encoded data removed]"
     },
     "metadata": {
      "needs_background": "light"
     }
    }
   ],
   "metadata": {}
  },
  {
   "cell_type": "code",
   "execution_count": null,
   "source": [],
   "outputs": [],
   "metadata": {}
  }
 ],
 "metadata": {
  "orig_nbformat": 4,
  "language_info": {
   "name": "python",
   "version": "3.9.4",
   "mimetype": "text/x-python",
   "codemirror_mode": {
    "name": "ipython",
    "version": 3
   },
   "pygments_lexer": "ipython3",
   "nbconvert_exporter": "python",
   "file_extension": ".py"
  },
  "kernelspec": {
   "name": "python3",
   "display_name": "Python 3.9.4 64-bit ('python3.9': conda)"
  },
  "interpreter": {
   "hash": "112989c04d9b5f15556575e770d3522ecbbef8edcf6491f6e33b45ab165d60eb"
  }
 },
 "nbformat": 4,
 "nbformat_minor": 2
}