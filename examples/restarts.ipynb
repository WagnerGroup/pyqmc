{
 "cells": [
  {
   "cell_type": "code",
   "execution_count": 1,
   "metadata": {},
   "outputs": [],
   "source": [
    "import os\n",
    "os.environ[\"MKL_NUM_THREADS\"] = \"1\"\n",
    "os.environ[\"NUMEXPR_NUM_THREADS\"] = \"1\"\n",
    "os.environ[\"OMP_NUM_THREADS\"] = \"1\"\n",
    "import numpy as np\n",
    "import pandas as pd\n",
    "from pyscf import lib, gto, scf\n",
    "import pyqmc\n",
    "import h5py"
   ]
  },
  {
   "cell_type": "markdown",
   "metadata": {},
   "source": [
    "This function computes the mean-field solution and saves the results to the file specified."
   ]
  },
  {
   "cell_type": "code",
   "execution_count": 2,
   "metadata": {},
   "outputs": [],
   "source": [
    "def mean_field(chkfile):\n",
    "    mol = gto.M(atom = \"He 0. 0. 0.\", basis='bfd_vdz', ecp='bfd', unit='bohr')\n",
    "\n",
    "    mf = scf.RHF(mol)\n",
    "    mf.chkfile = chkfile\n",
    "    mf.kernel()\n",
    "    return mol, mf"
   ]
  },
  {
   "cell_type": "markdown",
   "metadata": {},
   "source": [
    "This function runs VMC, recovering the mean-field objects from `chkfile`. These could be run in completely different processes.\n",
    "\n",
    "If `hdffile` exists, then the configurations will be reloaded from it and the run will be continued. You can run this as many times as you like and the statistics will get better."
   ]
  },
  {
   "cell_type": "code",
   "execution_count": 16,
   "metadata": {},
   "outputs": [],
   "source": [
    "def runvmc(chkfile, wffile, hdffile):\n",
    "    #recover the mean-field objects\n",
    "    mol = lib.chkfile.load_mol(chkfile)\n",
    "    mf = scf.RHF(mol)\n",
    "    mf.__dict__.update(scf.chkfile.load(chkfile, 'scf'))\n",
    "\n",
    "    #Set up our MC variables and wave function\n",
    "    wf, _ = pyqmc.default_sj(mol,mf)\n",
    "    hdf = h5py.File(wffile, 'r')\n",
    "    grp = hdf['wf']\n",
    "    for k in grp.keys():\n",
    "        wf.parameters[k] = np.array(grp[k])\n",
    "    hdf.close()\n",
    "    \n",
    "    accumulators = {'energy': pyqmc.EnergyAccumulator(mol) } \n",
    "    #This will get \n",
    "    configs = pyqmc.initial_guess(mol, 1000)\n",
    "    #hdf = h5py.File(hdffile,'a')\n",
    "\n",
    "    pyqmc.vmc(wf, configs, accumulators=accumulators, hdf_file = hdffile)\n"
   ]
  },
  {
   "cell_type": "code",
   "execution_count": 9,
   "metadata": {},
   "outputs": [],
   "source": [
    "def optimize(chkfile, wffile):\n",
    "    #recover the mean-field objects\n",
    "    mol = lib.chkfile.load_mol(chkfile)\n",
    "    mf = scf.RHF(mol)\n",
    "    mf.__dict__.update(scf.chkfile.load(chkfile, 'scf'))\n",
    "    wf, to_opt = pyqmc.default_sj(mol, mf)\n",
    "    accumulator = pyqmc.gradient_generator(mol, wf, to_opt)\n",
    "    coords = pyqmc.initial_guess(mol, 1000)\n",
    "    #hdf = h5py.File(wffile, 'a')\n",
    "    wf, df = pyqmc.line_minimization(wf,coords, accumulator, hdf_file = wffile)\n"
   ]
  },
  {
   "cell_type": "markdown",
   "metadata": {},
   "source": [
    "A simple analysis script to check on the progress of your calculation."
   ]
  },
  {
   "cell_type": "code",
   "execution_count": 6,
   "metadata": {},
   "outputs": [],
   "source": [
    "def analyze(hdffile):\n",
    "    hdf = h5py.File(hdffile, 'r')\n",
    "    energy = np.array(hdf['energytotal'])\n",
    "    for nb in [50, 20, 10]:\n",
    "        reblock = pyqmc.avg_reblock(energy, nb)\n",
    "\n",
    "        print(nb, np.mean(reblock), np.std(reblock)/np.sqrt(len(reblock)) )\n"
   ]
  },
  {
   "cell_type": "markdown",
   "metadata": {},
   "source": [
    "Here we run the mean-field calculation. It's a good idea to run analyze() to make sure that the solution is similar to what you would expect. "
   ]
  },
  {
   "cell_type": "code",
   "execution_count": 7,
   "metadata": {},
   "outputs": [
    {
     "name": "stdout",
     "output_type": "stream",
     "text": [
      "converged SCF energy = -2.86193223020366\n",
      "**** MO energy ****\n",
      "MO #1   energy= -0.917801424375274 occ= 2\n",
      "MO #2   energy= 0.727613019225335  occ= 0\n",
      "MO #3   energy= 0.727613019225335  occ= 0\n",
      "MO #4   energy= 0.727613019225338  occ= 0\n",
      "MO #5   energy= 1.58197375047964   occ= 0\n",
      " ** Mulliken atomic charges  **\n",
      "charge of  0He =      0.00000\n",
      "Dipole moment(X, Y, Z, Debye):  0.00000,  0.00000,  0.00000\n"
     ]
    },
    {
     "data": {
      "text/plain": [
       "((array([1.99999047e+00, 9.53120630e-06, 0.00000000e+00, 0.00000000e+00,\n",
       "         0.00000000e+00]), array([0.])), array([0., 0., 0.]))"
      ]
     },
     "execution_count": 7,
     "metadata": {},
     "output_type": "execute_result"
    }
   ],
   "source": [
    "chkfile = 'he.chk'\n",
    "hdffile = 'he.hdf5'\n",
    "wffile = \"savewf.hdf5\"\n",
    "\n",
    "#This is so we can start over each time we run!\n",
    "#Don't do this if you want to save your data.\n",
    "for filenm in [chkfile, hdffile, wffile]:\n",
    "    if os.path.isfile(filenm):\n",
    "        os.remove(filenm)\n",
    "        \n",
    "mol, mf = mean_field(chkfile)\n",
    "mf.analyze()"
   ]
  },
  {
   "cell_type": "markdown",
   "metadata": {},
   "source": [
    "We can now run VMC on our Slater-Jastrow wave function. Each time we run it, the error bars will decrease.\n"
   ]
  },
  {
   "cell_type": "code",
   "execution_count": 10,
   "metadata": {},
   "outputs": [
    {
     "name": "stdout",
     "output_type": "stream",
     "text": [
      "polynomial fit [ 0.38595638 -0.2581687  -2.86438789]\n",
      "estimated minimum 0.33445320689407865\n",
      "estimated minimum adjusted 0.2\n",
      "polynomial fit [ 0.02297474 -0.04513711 -2.88764676]\n",
      "estimated minimum 0.9823204519255263\n",
      "estimated minimum adjusted 0.2\n",
      "polynomial fit [ 0.00396502 -0.00796056 -2.90948338]\n",
      "estimated minimum 1.003849685868595\n",
      "estimated minimum adjusted 0.2\n",
      "polynomial fit [ 1.52242842e-03 -7.76111205e-04 -2.89817482e+00]\n",
      "estimated minimum 0.2548925110009335\n",
      "estimated minimum adjusted 0.2\n",
      "polynomial fit [ 7.04554176e-04 -3.47647747e-03 -2.89927065e+00]\n",
      "estimated minimum 2.467147018947053\n",
      "estimated minimum adjusted 0.2\n",
      "polynomial fit [ 6.56084205e-04 -1.10019197e-03 -2.88653324e+00]\n",
      "estimated minimum 0.8384533293209676\n",
      "estimated minimum adjusted 0.2\n",
      "polynomial fit [ 3.62397056e-04  4.03333589e-03 -2.89987401e+00]\n",
      "estimated minimum -5.564802231658572\n",
      "estimated minimum adjusted -0.04\n",
      "polynomial fit [ 4.11622710e-04  1.40760374e-04 -2.90224493e+00]\n",
      "estimated minimum -0.17098227449246525\n",
      "estimated minimum adjusted -0.04\n",
      "polynomial fit [ 5.47627494e-04  3.79132650e-03 -2.90363903e+00]\n",
      "estimated minimum -3.461592540891827\n",
      "estimated minimum adjusted -0.04\n",
      "polynomial fit [ 5.07595222e-04 -4.74235047e-04 -2.90103192e+00]\n",
      "estimated minimum 0.4671389983561078\n",
      "estimated minimum adjusted 0.2\n"
     ]
    }
   ],
   "source": [
    "optimize(chkfile, wffile)"
   ]
  },
  {
   "cell_type": "code",
   "execution_count": 11,
   "metadata": {},
   "outputs": [
    {
     "data": {
      "image/png": "[encoded data removed]",
      "text/plain": [
       "<Figure size 432x288 with 1 Axes>"
      ]
     },
     "metadata": {
      "needs_background": "light"
     },
     "output_type": "display_data"
    }
   ],
   "source": [
    "hdf = h5py.File(wffile,'r')\n",
    "import matplotlib.pyplot as plt\n",
    "%matplotlib inline\n",
    "plt.errorbar(hdf['iteration'], hdf['energy'], hdf['energy_error'])\n",
    "hdf.close()"
   ]
  },
  {
   "cell_type": "code",
   "execution_count": 14,
   "metadata": {},
   "outputs": [
    {
     "name": "stdout",
     "output_type": "stream",
     "text": [
      "polynomial fit [ 2.81793506e-04 -4.57400958e-04 -2.89757407e+00]\n",
      "estimated minimum 0.8115888913440752\n",
      "estimated minimum adjusted 0.2\n",
      "polynomial fit [ 7.74058489e-04 -2.37096519e-03 -2.89251048e+00]\n",
      "estimated minimum 1.5315155249923975\n",
      "estimated minimum adjusted 0.2\n",
      "polynomial fit [ 3.59188925e-04  2.69002542e-03 -2.91308461e+00]\n",
      "estimated minimum -3.7445829136737383\n",
      "estimated minimum adjusted -0.04\n",
      "polynomial fit [ 2.75861785e-04  5.42366531e-03 -2.90101834e+00]\n",
      "estimated minimum -9.830403474386488\n",
      "estimated minimum adjusted -0.04\n",
      "polynomial fit [ 1.18695171e-03 -6.92077545e-03 -2.90655810e+00]\n",
      "estimated minimum 2.9153567843964967\n",
      "estimated minimum adjusted 0.2\n",
      "polynomial fit [ 4.99957505e-05  1.47160881e-03 -2.90014067e+00]\n",
      "estimated minimum -14.717338955993885\n",
      "estimated minimum adjusted -0.04\n",
      "polynomial fit [ 1.66009875e-04 -2.10836191e-03 -2.89148179e+00]\n",
      "estimated minimum 6.350109928059387\n",
      "estimated minimum adjusted 0.2\n",
      "polynomial fit [ 1.21280229e-04  4.79919333e-04 -2.89776118e+00]\n",
      "estimated minimum -1.9785555265209847\n",
      "estimated minimum adjusted -0.04\n",
      "polynomial fit [ 4.14584285e-05  2.31980851e-03 -2.90796702e+00]\n",
      "estimated minimum -27.977525760866513\n",
      "estimated minimum adjusted -0.04\n",
      "polynomial fit [ 1.83113314e-04  1.92866106e-04 -2.89485822e+00]\n",
      "estimated minimum -0.5266304826913611\n",
      "estimated minimum adjusted -0.04\n"
     ]
    },
    {
     "data": {
      "image/png": "[encoded data removed]",
      "text/plain": [
       "<Figure size 432x288 with 1 Axes>"
      ]
     },
     "metadata": {
      "needs_background": "light"
     },
     "output_type": "display_data"
    }
   ],
   "source": [
    "optimize(chkfile, wffile)\n",
    "hdf = h5py.File(wffile,'r')\n",
    "import matplotlib.pyplot as plt\n",
    "%matplotlib inline\n",
    "plt.errorbar(hdf['iteration'], hdf['energy'], hdf['energy_error'])\n",
    "hdf.close()"
   ]
  },
  {
   "cell_type": "code",
   "execution_count": 17,
   "metadata": {},
   "outputs": [
    {
     "name": "stdout",
     "output_type": "stream",
     "text": [
      "50 -2.895825 0.0017995350346643338\n",
      "20 -2.8958244 0.0022317642318091194\n",
      "10 -2.895825 0.0023125718979216214\n"
     ]
    }
   ],
   "source": [
    "runvmc(chkfile, wffile, hdffile)\n",
    "analyze(hdffile)"
   ]
  },
  {
   "cell_type": "code",
   "execution_count": 18,
   "metadata": {},
   "outputs": [
    {
     "name": "stdout",
     "output_type": "stream",
     "text": [
      "50 -2.8986046 0.0012378578139943168\n",
      "20 -2.8986046 0.0013842632335268324\n",
      "10 -2.8986049 0.0013459594083618923\n"
     ]
    }
   ],
   "source": [
    "runvmc(chkfile, wffile, hdffile)\n",
    "analyze(hdffile)"
   ]
  },
  {
   "cell_type": "code",
   "execution_count": 19,
   "metadata": {},
   "outputs": [
    {
     "name": "stdout",
     "output_type": "stream",
     "text": [
      "50 -2.899013 0.0009016064370162578\n",
      "20 -2.899013 0.0009358562918871788\n",
      "10 -2.8990133 0.0009488583188982934\n"
     ]
    }
   ],
   "source": [
    "runvmc(chkfile, wffile, hdffile)\n",
    "analyze(hdffile)"
   ]
  },
  {
   "cell_type": "code",
   "execution_count": null,
   "metadata": {},
   "outputs": [],
   "source": []
  }
 ],
 "metadata": {
  "kernelspec": {
   "display_name": "Python 3",
   "language": "python",
   "name": "python3"
  },
  "language_info": {
   "codemirror_mode": {
    "name": "ipython",
    "version": 3
   },
   "file_extension": ".py",
   "mimetype": "text/x-python",
   "name": "python",
   "nbconvert_exporter": "python",
   "pygments_lexer": "ipython3",
   "version": "3.8.2"
  }
 },
 "nbformat": 4,
 "nbformat_minor": 4
}
