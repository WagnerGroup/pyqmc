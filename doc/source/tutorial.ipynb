{
 "cells": [
  {
   "cell_type": "markdown",
   "source": [
    "# Tutorial using recipes\n",
    "\n",
    "Recipes are scripted functions that cover probably 90% of cases. They read and save all information to disk using the HDF5 format and have sensible defaults. If you need more flexibility for your calculation, you can run in full control mode instead. \n",
    "\n",
    "In a production run, each one of these cells would most likely best be executed as a job. In that case, you would want to separate the computationally intensive runs from the analysis.\n",
    "\n",
    "You will need to install `pyscf`, `ase`, `matplotlib`, `h5py`, `pandas` and `pyqmc` to use these routines. These all can be installed using `pip`. "
   ],
   "metadata": {}
  },
  {
   "cell_type": "code",
   "execution_count": 1,
   "source": [
    "import os\n",
    "os.environ[\"MKL_NUM_THREADS\"] = \"1\"\n",
    "os.environ[\"NUMEXPR_NUM_THREADS\"] = \"1\"\n",
    "os.environ[\"OMP_NUM_THREADS\"] = \"1\"\n",
    "import numpy as np\n",
    "import pandas as pd\n",
    "from pyscf import gto, scf\n",
    "import pyqmc.api as pyq\n",
    "import h5py\n",
    "import matplotlib.pyplot as plt\n",
    "from ase.data.pubchem import pubchem_atoms_search\n",
    "import pyscf.pbc.tools.pyscf_ase as pyscf_ase\n",
    "# Here we reset the files \n",
    "for fname in ['mf.hdf5','optimized_wf.hdf5','vmc_data.hdf5','dmc.hdf5']:\n",
    "    if os.path.isfile(fname):\n",
    "        os.remove(fname) "
   ],
   "outputs": [
    {
     "output_type": "stream",
     "name": "stderr",
     "text": [
      "/opt/homebrew/Caskroom/miniforge/base/envs/python3.9/lib/python3.9/site-packages/pyscf/lib/misc.py:46: H5pyDeprecationWarning: Using default_file_mode other than 'r' is deprecated. Pass the mode to h5py.File() instead.\n",
      "  h5py.get_config().default_file_mode = 'a'\n"
     ]
    }
   ],
   "metadata": {}
  },
  {
   "cell_type": "markdown",
   "source": [
    "This function computes the mean-field solution and saves the results to the file specified. We recommend using the ccecp pseudopotentials for high accuracy and efficiency.\n",
    "\n",
    "Here we search up the atomic positions of water to reduce errors. "
   ],
   "metadata": {}
  },
  {
   "cell_type": "code",
   "execution_count": 2,
   "source": [
    "def mean_field(chkfile):\n",
    "    atoms =  pubchem_atoms_search(name='water')\n",
    "    mol = gto.M(\n",
    "        atom=pyscf_ase.ase_atoms_to_pyscf(atoms),\n",
    "        basis=\"ccECP_cc-pVDZ\", ecp=\"ccecp\",\n",
    "    )\n",
    "    mf = scf.RHF(mol)\n",
    "    mf.chkfile = chkfile\n",
    "    mf.kernel()\n",
    "mean_field(\"mf.hdf5\")"
   ],
   "outputs": [
    {
     "output_type": "stream",
     "name": "stdout",
     "text": [
      "converged SCF energy = -16.9321257267691\n"
     ]
    }
   ],
   "metadata": {
    "tags": []
   }
  },
  {
   "cell_type": "markdown",
   "source": [
    "Now we wish to construct a Slater-Jastrow wave function and optimize its energy. This is done using the OPTIMIZE function in pyq. It's often helpful to do the first optimization with only a few configurations, to get close to the minimum cheaply.\n",
    "\n",
    "By default, `OPTIMIZE` uses 10 VMC blocks of 10 steps each, so this is 10x10x100=10,000 VMC samples per iteration. \n",
    "\n",
    "To increase precision, it is usually best to increase the number of configurations. "
   ],
   "metadata": {}
  },
  {
   "cell_type": "code",
   "execution_count": 3,
   "source": [
    "pyq.OPTIMIZE(\"mf.hdf5\",           #Construct a Slater-Jastrow wave function from the pyscf output\n",
    "             \"optimized_wf.hdf5\", #Store optimized parameters in this file.\n",
    "             nconfig=100,         #Optimize using this many Monte Carlo samples/configurations\n",
    "             max_iterations=10,   #10 optimization steps\n",
    "             verbose=False)"
   ],
   "outputs": [],
   "metadata": {
    "tags": []
   }
  },
  {
   "cell_type": "markdown",
   "source": [
    "The API contains functions such as `read_opt` which assist in reading the output files. Here we print out the energy and uncertainty as the optimization proceeds. You should see that the energy is decreasing (within uncertainty). "
   ],
   "metadata": {}
  },
  {
   "cell_type": "code",
   "execution_count": 4,
   "source": [
    "df = pyq.read_opt(\"optimized_wf.hdf5\")\n",
    "df"
   ],
   "outputs": [
    {
     "output_type": "execute_result",
     "data": {
      "text/plain": [
       "      energy  iteration     error              fname\n",
       "0 -16.991545          0  0.017707  optimized_wf.hdf5\n",
       "1 -17.080173          1  0.018693  optimized_wf.hdf5\n",
       "2 -17.126727          2  0.010658  optimized_wf.hdf5\n",
       "3 -17.116194          3  0.009721  optimized_wf.hdf5\n",
       "4 -17.109356          4  0.011984  optimized_wf.hdf5\n",
       "5 -17.123817          5  0.010352  optimized_wf.hdf5\n",
       "6 -17.150079          6  0.011616  optimized_wf.hdf5\n",
       "7 -17.148353          7  0.010380  optimized_wf.hdf5\n",
       "8 -17.158911          8  0.009709  optimized_wf.hdf5\n",
       "9 -17.170465          9  0.008196  optimized_wf.hdf5"
      ],
      "text/html": [
       "<div>\n",
       "<style scoped>\n",
       "    .dataframe tbody tr th:only-of-type {\n",
       "        vertical-align: middle;\n",
       "    }\n",
       "\n",
       "    .dataframe tbody tr th {\n",
       "        vertical-align: top;\n",
       "    }\n",
       "\n",
       "    .dataframe thead th {\n",
       "        text-align: right;\n",
       "    }\n",
       "</style>\n",
       "<table border=\"1\" class=\"dataframe\">\n",
       "  <thead>\n",
       "    <tr style=\"text-align: right;\">\n",
       "      <th></th>\n",
       "      <th>energy</th>\n",
       "      <th>iteration</th>\n",
       "      <th>error</th>\n",
       "      <th>fname</th>\n",
       "    </tr>\n",
       "  </thead>\n",
       "  <tbody>\n",
       "    <tr>\n",
       "      <th>0</th>\n",
       "      <td>-16.991545</td>\n",
       "      <td>0</td>\n",
       "      <td>0.017707</td>\n",
       "      <td>optimized_wf.hdf5</td>\n",
       "    </tr>\n",
       "    <tr>\n",
       "      <th>1</th>\n",
       "      <td>-17.080173</td>\n",
       "      <td>1</td>\n",
       "      <td>0.018693</td>\n",
       "      <td>optimized_wf.hdf5</td>\n",
       "    </tr>\n",
       "    <tr>\n",
       "      <th>2</th>\n",
       "      <td>-17.126727</td>\n",
       "      <td>2</td>\n",
       "      <td>0.010658</td>\n",
       "      <td>optimized_wf.hdf5</td>\n",
       "    </tr>\n",
       "    <tr>\n",
       "      <th>3</th>\n",
       "      <td>-17.116194</td>\n",
       "      <td>3</td>\n",
       "      <td>0.009721</td>\n",
       "      <td>optimized_wf.hdf5</td>\n",
       "    </tr>\n",
       "    <tr>\n",
       "      <th>4</th>\n",
       "      <td>-17.109356</td>\n",
       "      <td>4</td>\n",
       "      <td>0.011984</td>\n",
       "      <td>optimized_wf.hdf5</td>\n",
       "    </tr>\n",
       "    <tr>\n",
       "      <th>5</th>\n",
       "      <td>-17.123817</td>\n",
       "      <td>5</td>\n",
       "      <td>0.010352</td>\n",
       "      <td>optimized_wf.hdf5</td>\n",
       "    </tr>\n",
       "    <tr>\n",
       "      <th>6</th>\n",
       "      <td>-17.150079</td>\n",
       "      <td>6</td>\n",
       "      <td>0.011616</td>\n",
       "      <td>optimized_wf.hdf5</td>\n",
       "    </tr>\n",
       "    <tr>\n",
       "      <th>7</th>\n",
       "      <td>-17.148353</td>\n",
       "      <td>7</td>\n",
       "      <td>0.010380</td>\n",
       "      <td>optimized_wf.hdf5</td>\n",
       "    </tr>\n",
       "    <tr>\n",
       "      <th>8</th>\n",
       "      <td>-17.158911</td>\n",
       "      <td>8</td>\n",
       "      <td>0.009709</td>\n",
       "      <td>optimized_wf.hdf5</td>\n",
       "    </tr>\n",
       "    <tr>\n",
       "      <th>9</th>\n",
       "      <td>-17.170465</td>\n",
       "      <td>9</td>\n",
       "      <td>0.008196</td>\n",
       "      <td>optimized_wf.hdf5</td>\n",
       "    </tr>\n",
       "  </tbody>\n",
       "</table>\n",
       "</div>"
      ]
     },
     "metadata": {},
     "execution_count": 4
    }
   ],
   "metadata": {}
  },
  {
   "cell_type": "markdown",
   "source": [
    "The output is stored as a standard HDF5 file. You can use `h5py` or other utilities to inspect their contents. Here we print out the 2-body Jastrow coefficients. Overall, these should be negative, since electrons repel each other.\n",
    "\n",
    "Since we did not request orbital optimization, only the Jastrow was optimized, and only the Jastrow parameters are saved in the output file. \n"
   ],
   "metadata": {}
  },
  {
   "cell_type": "code",
   "execution_count": 5,
   "source": [
    "with h5py.File(\"optimized_wf.hdf5\") as f:\n",
    "    print(\"keys\", list(f.keys()))\n",
    "    print(\"wave function parameters\", list(f['wf'].keys()))\n",
    "    print(f['wf/wf2bcoeff'][()])"
   ],
   "outputs": [
    {
     "output_type": "stream",
     "name": "stdout",
     "text": [
      "keys ['configs', 'energy', 'energy_error', 'est_min', 'iteration', 'nconfig', 'pgradient', 'tau', 'wf', 'x', 'yfit']\n",
      "wave function parameters ['wf2acoeff', 'wf2bcoeff']\n",
      "[[-0.25       -0.5        -0.25      ]\n",
      " [ 0.05606749  0.04630514  0.06288114]\n",
      " [-0.10519429 -0.20769824 -0.09778117]\n",
      " [-0.13156762 -0.24253197 -0.13787106]]\n"
     ]
    }
   ],
   "metadata": {}
  },
  {
   "cell_type": "markdown",
   "source": [
    "To evaluate the properties of the wave function, we use the `VMC` function. "
   ],
   "metadata": {}
  },
  {
   "cell_type": "code",
   "execution_count": 6,
   "source": [
    "pyq.VMC(\"mf.hdf5\",                            #Construct a Slater-Jastrow wave function from this file\n",
    "        \"vmc_data.hdf5\",                      #Store Monte Carlo data in this file\n",
    "        load_parameters=\"optimized_wf.hdf5\", #Load optimized parameters from this file\n",
    "        nblocks=30,                           #Run for 30 blocks. By default, there are 10 steps per block and 1000 configurations\n",
    "        verbose=False)"
   ],
   "outputs": [],
   "metadata": {
    "tags": []
   }
  },
  {
   "cell_type": "markdown",
   "source": [
    "The uncertainty in the final energy is much lower than in the optimization above, since we sampled many more Monte Carlo configurations. With the above settings, there are 30x1000x10 = 300,000 Monte Carlo samples generated. \n",
    "\n",
    "* `energytotal` should match the final step in optimization to within uncertainties\n",
    "* `energygrad2` should be twice `energyke` within uncertainties\n",
    "* `energytotal` should be quite a lot lower than the Hartree-Fock energy\n",
    "* The uncertainties should be lowered (versus the optimization steps above) by a factor $\\frac{\\sqrt{M_{OPT}}}{\\sqrt{M_{VMC}}}$"
   ],
   "metadata": {}
  },
  {
   "cell_type": "code",
   "execution_count": 7,
   "source": [
    "pyq.read_mc_output(\"vmc_data.hdf5\")"
   ],
   "outputs": [
    {
     "output_type": "execute_result",
     "data": {
      "text/plain": [
       "{'fname': 'vmc_data.hdf5',\n",
       " 'warmup': 1,\n",
       " 'reblock': None,\n",
       " 'acceptance': 0.5971488764044944,\n",
       " 'acceptance_err': 0.0006122970977467954,\n",
       " 'block': 45.0,\n",
       " 'block_err': 2.7386127875258306,\n",
       " 'energyecp': 1.0427315791047875,\n",
       " 'energyecp_err': 0.006711132061017259,\n",
       " 'energyee': 17.014264728785488,\n",
       " 'energyee_err': 0.008604562456597334,\n",
       " 'energyei': -55.72503351189938,\n",
       " 'energyei_err': 0.025886049026138145,\n",
       " 'energygrad2': 26.987968519107632,\n",
       " 'energygrad2_err': 0.19301283541097783,\n",
       " 'energyke': 13.597633594791404,\n",
       " 'energyke_err': 0.01795711497868946,\n",
       " 'energytotal': -17.170490001013118,\n",
       " 'energytotal_err': 0.001961047903916406,\n",
       " 'nconfig': 10000.0,\n",
       " 'nconfig_err': 0.0}"
      ]
     },
     "metadata": {},
     "execution_count": 7
    }
   ],
   "metadata": {}
  },
  {
   "cell_type": "markdown",
   "source": [
    "Finally we run diffusion Monte Carlo. In this example, we have run with many configurations so the convergence of DMC would be very clear. If you want to reduce the computational cost, you can run it with 10x fewer (1000) configurations.\n"
   ],
   "metadata": {}
  },
  {
   "cell_type": "code",
   "execution_count": 8,
   "source": [
    "pyq.DMC(\"mf.hdf5\",\n",
    "        \"dmc.hdf5\",                            #Initialize the Slater-Jastrow wave function using pyscf\n",
    "        load_parameters=f\"optimized_wf.hdf5\",  #Load the optimized parameters\n",
    "        verbose=False, \n",
    "        tstep=.1,                              #timestep of 0.1 Hartrees^-1\n",
    "        nsteps=int(50/.1),                     #propagate for 50 Hartrees^-1\n",
    "        branchtime=1,                          #Efficiency parameter; these are 'mini-blocks'\n",
    "        nconfig=10000)                         #Use 1,000 configurations"
   ],
   "outputs": [],
   "metadata": {
    "tags": [
     "outputPrepend"
    ]
   }
  },
  {
   "cell_type": "markdown",
   "source": [
    "We can read the energy directly from the HDF5 file. \n",
    "\n",
    "You should see that the first few steps are higher in energy than the average. These are the warmup steps."
   ],
   "metadata": {}
  },
  {
   "cell_type": "code",
   "execution_count": 12,
   "source": [
    "with h5py.File(\"dmc.hdf5\") as f:\n",
    "    en = f['energytotal'][...]\n",
    "plt.plot(en, marker='o')\n",
    "plt.xlabel(\"DMC step\")\n",
    "plt.ylabel(\"Energy (Hartree)\")"
   ],
   "outputs": [
    {
     "output_type": "execute_result",
     "data": {
      "text/plain": [
       "Text(0, 0.5, 'Energy (Hartree)')"
      ]
     },
     "metadata": {},
     "execution_count": 12
    },
    {
     "output_type": "display_data",
     "data": {
      "text/plain": [
       "<Figure size 432x288 with 1 Axes>"
      ],
      "image/png": "[encoded data removed]"
     },
     "metadata": {
      "needs_background": "light"
     }
    }
   ],
   "metadata": {}
  },
  {
   "cell_type": "markdown",
   "source": [
    "Since the DMC samples are correlated due to the timestepping, it is important to do two things: \n",
    "1) Remove the warmup steps.  \n",
    "2) Reblocking analysis to estimate the statistical uncertainties correctly. \n",
    "\n",
    "The `read_mc_output` function has two parameters that help with this:\n",
    "* `warmup`: remove the first `warmup` steps from the data, before reblocking\n",
    "* `reblock`: bin the data into `reblock` blocks.\n"
   ],
   "metadata": {}
  },
  {
   "cell_type": "code",
   "execution_count": 13,
   "source": [
    "block_sizes = np.linspace(2,len(en)//16, 10, dtype=int)\n",
    "reblocks = [len(en)//s for s in block_sizes]\n",
    "print(reblocks)\n",
    "print(block_sizes)\n",
    "df = pd.DataFrame([pyq.read_mc_output(\"dmc.hdf5\", warmup=100, reblock=reblock) for reblock in reblocks])\n",
    "df['block_size'] = block_sizes\n",
    "plt.plot(\"block_size\",'energytotal_err',data=df, marker='o')\n",
    "plt.xlabel(\"Block size\")\n",
    "plt.ylabel(\"Estimated uncertainty (Ha)\")"
   ],
   "outputs": [
    {
     "output_type": "stream",
     "name": "stdout",
     "text": [
      "[250, 100, 62, 45, 35, 27, 23, 20, 18, 16]\n",
      "[ 2  5  8 11 14 18 21 24 27 31]\n"
     ]
    },
    {
     "output_type": "execute_result",
     "data": {
      "text/plain": [
       "Text(0, 0.5, 'Estimated uncertainty (Ha)')"
      ]
     },
     "metadata": {},
     "execution_count": 13
    },
    {
     "output_type": "display_data",
     "data": {
      "text/plain": [
       "<Figure size 432x288 with 1 Axes>"
      ],
      "image/png": "[encoded data removed]"
     },
     "metadata": {
      "needs_background": "light"
     }
    }
   ],
   "metadata": {}
  }
 ],
 "metadata": {
  "kernelspec": {
   "name": "python3",
   "display_name": "Python 3.9.4 64-bit ('python3.9': conda)"
  },
  "language_info": {
   "codemirror_mode": {
    "name": "ipython",
    "version": 3
   },
   "file_extension": ".py",
   "mimetype": "text/x-python",
   "name": "python",
   "nbconvert_exporter": "python",
   "pygments_lexer": "ipython3",
   "version": "3.9.4"
  },
  "interpreter": {
   "hash": "112989c04d9b5f15556575e770d3522ecbbef8edcf6491f6e33b45ab165d60eb"
  }
 },
 "nbformat": 4,
 "nbformat_minor": 4
}